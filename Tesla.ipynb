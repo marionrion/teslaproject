{
 "cells": [
  {
   "cell_type": "markdown",
   "metadata": {},
   "source": [
    "## 1. Business Understanding\n",
    "\n",
    "![Honey Bardger](Tesla.jpg)\n",
    "\n",
    "#### **1.1 Business Overview**\n",
    "Tesla, Inc. is an American multinational automotive and clean energy company headquartered in Austin, Texas.Tesla is a leading company in the electric vehicle revolution and has been instrumental in making EVs more popular and accessible.\n",
    "\n",
    "#### **1.2 Problem statement**\n",
    "Tesla, Inc., as a pioneering force in the electric vehicle industry, has experienced significant fluctuations in its stock performance. Investors are keen to understand the potential return on investment (ROI) to make informed decisions. The challenge is to predict the return on investment by analyzing the stock's historical performance, identifying trends, understanding volatility, and uncovering relationships between various price points. This predictive model aims to provide accurate and actionable insights to support strategic investment decisions.This data will be useful to investors and financial analysts.\n",
    "\n",
    "\n",
    "#### **1.3 Objectives**\n",
    "To understand the stock's performance over time by examining daily data points, including the opening price, high price, low price, closing price, trading volume, and adjusted closing price.\n",
    "\n",
    "**specific objectives**\n",
    "\n",
    "1. Analyze historical stock market data to gain actionable insights into the stock's performance.\n",
    "2. Identify trends and patterns in the stock's daily price movements and trading volume.\n",
    "3. Evaluate key metrics such as opening price, high price, low price, closing price, trading volume, and adjusted closing price.\n",
    "4. Support informed investment decisions by providing accurate and relevant data analysis.\n",
    "5. Determine correlations between different price points and trading volume.\n",
    "\n",
    "#### **1.4 Success Criteria**\n",
    "Success will be measured by the accuracy of the insights and the practical applicability of the analysis in supporting strategic investment choices.\n"
   ]
  },
  {
   "cell_type": "markdown",
   "metadata": {},
   "source": [
    "Source: https://www.kaggle.com/rpaguirre/tesla-stock-price"
   ]
  },
  {
   "cell_type": "markdown",
   "metadata": {},
   "source": [
    "## 2. Data Understanding\n",
    "The date - \"Date\"\n",
    "\n",
    "The opening price of the stock - \"Open\"\n",
    "\n",
    "The high price of that day - \"High\"\n",
    "\n",
    "The low price of that day - \"Low\"\n",
    "\n",
    "The closed price of that day - \"Close\"\n",
    "\n",
    "The amount of stocks traded during that day - \"Volume\"\n",
    "\n",
    "The stock's closing price that has been amended to include any distributions/corporate actions that occurs before next days open - \"Adj[usted] Close\""
   ]
  },
  {
   "cell_type": "markdown",
   "metadata": {},
   "source": [
    "\n",
    "### Data Loading\n",
    "Import the necessary modules and packages:"
   ]
  },
  {
   "cell_type": "code",
   "execution_count": 1,
   "metadata": {},
   "outputs": [
    {
     "name": "stdout",
     "output_type": "stream",
     "text": [
      "Name: numpy\n",
      "Version: 1.24.4\n",
      "Summary: Fundamental package for array computing in Python\n",
      "Home-page: https://www.numpy.org\n",
      "Author: Travis E. Oliphant et al.\n",
      "Author-email: \n",
      "License: BSD-3-Clause\n",
      "Location: c:\\users\\rion\\anaconda3\\envs\\learn-env\\lib\\site-packages\n",
      "Requires: \n",
      "Required-by: arviz, Boruta, category-encoders, cftime, cvxpy, ecos, fbprophet, folium, gensim, h5py, imbalanced-learn, Keras, Keras-Preprocessing, matplotlib, mkl-fft, mkl-random, netCDF4, opt-einsum, osqp, pandas, pandasql, patsy, pyarrow, pystan, scikit-learn, scikit-surprise, scipy, scs, seaborn, shapely, statsmodels, tensorboard, tensorflow, xarray, xgboost\n",
      "Note: you may need to restart the kernel to use updated packages.\n"
     ]
    }
   ],
   "source": [
    "pip show numpy"
   ]
  },
  {
   "cell_type": "code",
   "execution_count": 2,
   "metadata": {},
   "outputs": [
    {
     "name": "stdout",
     "output_type": "stream",
     "text": [
      "Requirement already satisfied: numpy in c:\\users\\rion\\anaconda3\\envs\\learn-env\\lib\\site-packages (1.24.4)\n",
      "Note: you may need to restart the kernel to use updated packages.\n"
     ]
    },
    {
     "name": "stderr",
     "output_type": "stream",
     "text": [
      "\n",
      "[notice] A new release of pip is available: 24.0 -> 24.1.2\n",
      "[notice] To update, run: python.exe -m pip install --upgrade pip\n"
     ]
    }
   ],
   "source": [
    "pip install --upgrade numpy\n"
   ]
  },
  {
   "cell_type": "code",
   "execution_count": 3,
   "metadata": {},
   "outputs": [
    {
     "name": "stdout",
     "output_type": "stream",
     "text": [
      "Requirement already satisfied: statsmodels in c:\\users\\rion\\anaconda3\\envs\\learn-env\\lib\\site-packages (0.14.1)\n",
      "Requirement already satisfied: numpy<2,>=1.18 in c:\\users\\rion\\anaconda3\\envs\\learn-env\\lib\\site-packages (from statsmodels) (1.24.4)\n",
      "Requirement already satisfied: scipy!=1.9.2,>=1.4 in c:\\users\\rion\\anaconda3\\envs\\learn-env\\lib\\site-packages (from statsmodels) (1.10.1)\n",
      "Requirement already satisfied: pandas!=2.1.0,>=1.0 in c:\\users\\rion\\anaconda3\\envs\\learn-env\\lib\\site-packages (from statsmodels) (1.1.3)\n",
      "Requirement already satisfied: patsy>=0.5.4 in c:\\users\\rion\\anaconda3\\envs\\learn-env\\lib\\site-packages (from statsmodels) (0.5.6)\n",
      "Requirement already satisfied: packaging>=21.3 in c:\\users\\rion\\anaconda3\\envs\\learn-env\\lib\\site-packages (from statsmodels) (24.1)\n",
      "Requirement already satisfied: python-dateutil>=2.7.3 in c:\\users\\rion\\anaconda3\\envs\\learn-env\\lib\\site-packages (from pandas!=2.1.0,>=1.0->statsmodels) (2.9.0.post0)\n",
      "Requirement already satisfied: pytz>=2017.2 in c:\\users\\rion\\anaconda3\\envs\\learn-env\\lib\\site-packages (from pandas!=2.1.0,>=1.0->statsmodels) (2020.1)\n",
      "Requirement already satisfied: six in c:\\users\\rion\\anaconda3\\envs\\learn-env\\lib\\site-packages (from patsy>=0.5.4->statsmodels) (1.15.0)\n",
      "Note: you may need to restart the kernel to use updated packages.\n"
     ]
    },
    {
     "name": "stderr",
     "output_type": "stream",
     "text": [
      "\n",
      "[notice] A new release of pip is available: 24.0 -> 24.1.2\n",
      "[notice] To update, run: python.exe -m pip install --upgrade pip\n"
     ]
    }
   ],
   "source": [
    "pip install --upgrade statsmodels\n"
   ]
  },
  {
   "cell_type": "code",
   "execution_count": 4,
   "metadata": {},
   "outputs": [
    {
     "ename": "SyntaxError",
     "evalue": "invalid syntax (<ipython-input-4-f0737d875ee7>, line 1)",
     "output_type": "error",
     "traceback": [
      "\u001b[1;36m  File \u001b[1;32m\"<ipython-input-4-f0737d875ee7>\"\u001b[1;36m, line \u001b[1;32m1\u001b[0m\n\u001b[1;33m    pip uninstall numpy statsmodels\u001b[0m\n\u001b[1;37m        ^\u001b[0m\n\u001b[1;31mSyntaxError\u001b[0m\u001b[1;31m:\u001b[0m invalid syntax\n"
     ]
    }
   ],
   "source": [
    "pip uninstall numpy statsmodels\n",
    "pip install numpy statsmodels"
   ]
  },
  {
   "cell_type": "code",
   "execution_count": 6,
   "metadata": {},
   "outputs": [],
   "source": [
    "# Importing necessary libraries for time series analysis\n",
    "import warnings\n",
    "warnings.filterwarnings('ignore')  # This will suppress all warnings\n",
    "\n",
    "import pandas as pd\n",
    "import numpy as np\n",
    "import matplotlib.pyplot as plt\n",
    "import seaborn as sns\n",
    "import statsmodels.api as sm\n",
    "from statsmodels.tsa.seasonal import seasonal_decompose\n",
    "from statsmodels.tsa.stattools import adfuller, acf, pacf\n",
    "from statsmodels.tsa.arima.model import ARIMA"
   ]
  },
  {
   "cell_type": "markdown",
   "metadata": {},
   "source": [
    "Next is to loads the Tesla dataset, displays the first few rows to get an initial view of the data."
   ]
  },
  {
   "cell_type": "code",
   "execution_count": 7,
   "metadata": {},
   "outputs": [
    {
     "data": {
      "text/html": [
       "<div>\n",
       "<style scoped>\n",
       "    .dataframe tbody tr th:only-of-type {\n",
       "        vertical-align: middle;\n",
       "    }\n",
       "\n",
       "    .dataframe tbody tr th {\n",
       "        vertical-align: top;\n",
       "    }\n",
       "\n",
       "    .dataframe thead th {\n",
       "        text-align: right;\n",
       "    }\n",
       "</style>\n",
       "<table border=\"1\" class=\"dataframe\">\n",
       "  <thead>\n",
       "    <tr style=\"text-align: right;\">\n",
       "      <th></th>\n",
       "      <th>Date</th>\n",
       "      <th>Open</th>\n",
       "      <th>High</th>\n",
       "      <th>Low</th>\n",
       "      <th>Close</th>\n",
       "      <th>Adj Close</th>\n",
       "      <th>Volume</th>\n",
       "    </tr>\n",
       "  </thead>\n",
       "  <tbody>\n",
       "    <tr>\n",
       "      <th>0</th>\n",
       "      <td>6/29/2010</td>\n",
       "      <td>1.266667</td>\n",
       "      <td>1.666667</td>\n",
       "      <td>1.169333</td>\n",
       "      <td>1.592667</td>\n",
       "      <td>1.592667</td>\n",
       "      <td>281494500</td>\n",
       "    </tr>\n",
       "    <tr>\n",
       "      <th>1</th>\n",
       "      <td>6/30/2010</td>\n",
       "      <td>1.719333</td>\n",
       "      <td>2.028000</td>\n",
       "      <td>1.553333</td>\n",
       "      <td>1.588667</td>\n",
       "      <td>1.588667</td>\n",
       "      <td>257806500</td>\n",
       "    </tr>\n",
       "    <tr>\n",
       "      <th>2</th>\n",
       "      <td>7/1/2010</td>\n",
       "      <td>1.666667</td>\n",
       "      <td>1.728000</td>\n",
       "      <td>1.351333</td>\n",
       "      <td>1.464000</td>\n",
       "      <td>1.464000</td>\n",
       "      <td>123282000</td>\n",
       "    </tr>\n",
       "    <tr>\n",
       "      <th>3</th>\n",
       "      <td>7/2/2010</td>\n",
       "      <td>1.533333</td>\n",
       "      <td>1.540000</td>\n",
       "      <td>1.247333</td>\n",
       "      <td>1.280000</td>\n",
       "      <td>1.280000</td>\n",
       "      <td>77097000</td>\n",
       "    </tr>\n",
       "    <tr>\n",
       "      <th>4</th>\n",
       "      <td>7/6/2010</td>\n",
       "      <td>1.333333</td>\n",
       "      <td>1.333333</td>\n",
       "      <td>1.055333</td>\n",
       "      <td>1.074000</td>\n",
       "      <td>1.074000</td>\n",
       "      <td>103003500</td>\n",
       "    </tr>\n",
       "  </tbody>\n",
       "</table>\n",
       "</div>"
      ],
      "text/plain": [
       "        Date      Open      High       Low     Close  Adj Close     Volume\n",
       "0  6/29/2010  1.266667  1.666667  1.169333  1.592667   1.592667  281494500\n",
       "1  6/30/2010  1.719333  2.028000  1.553333  1.588667   1.588667  257806500\n",
       "2   7/1/2010  1.666667  1.728000  1.351333  1.464000   1.464000  123282000\n",
       "3   7/2/2010  1.533333  1.540000  1.247333  1.280000   1.280000   77097000\n",
       "4   7/6/2010  1.333333  1.333333  1.055333  1.074000   1.074000  103003500"
      ]
     },
     "execution_count": 7,
     "metadata": {},
     "output_type": "execute_result"
    }
   ],
   "source": [
    "# load data\n",
    "Tesla = pd.read_csv('Tesla Dataset.csv')\n",
    "Tesla.head()"
   ]
  },
  {
   "cell_type": "markdown",
   "metadata": {},
   "source": [
    "The Tesla dataset preview shows stock prices with columns for Date, Open, High, Low, Close, Adjusted Close, and Volume."
   ]
  },
  {
   "cell_type": "markdown",
   "metadata": {},
   "source": [
    "### 3. Data Preparation"
   ]
  },
  {
   "cell_type": "code",
   "execution_count": 8,
   "metadata": {},
   "outputs": [
    {
     "data": {
      "text/plain": [
       "(3509, 7)"
      ]
     },
     "execution_count": 8,
     "metadata": {},
     "output_type": "execute_result"
    }
   ],
   "source": [
    "Tesla.shape"
   ]
  },
  {
   "cell_type": "markdown",
   "metadata": {},
   "source": [
    "The Tesla dataset contains 3509 rows and 7 columns."
   ]
  },
  {
   "cell_type": "code",
   "execution_count": 9,
   "metadata": {},
   "outputs": [
    {
     "data": {
      "text/plain": [
       "Index(['Date', 'Open', 'High', 'Low', 'Close', 'Adj Close', 'Volume'], dtype='object')"
      ]
     },
     "execution_count": 9,
     "metadata": {},
     "output_type": "execute_result"
    }
   ],
   "source": [
    "Tesla.columns"
   ]
  },
  {
   "cell_type": "code",
   "execution_count": 10,
   "metadata": {},
   "outputs": [
    {
     "name": "stdout",
     "output_type": "stream",
     "text": [
      "Date (unique count: 3509): ['6/29/2010' '6/30/2010' '7/1/2010' ... '6/4/2024' '6/5/2024' '6/6/2024']\n",
      "Open (unique count: 3204): [  1.266667   1.719333   1.666667 ... 174.779999 175.350006 174.419998]\n",
      "High (unique count: 3197): [  1.666667   2.028      1.728    ... 177.759995 176.149994 176.919998]\n",
      "Low (unique count: 3214): [  1.169333   1.553333   1.351333 ... 174.       172.130005 172.729996]\n",
      "Close (unique count: 3309): [  1.592667   1.588667   1.464    ... 174.770004 175.       175.440002]\n",
      "Adj Close (unique count: 3309): [  1.592667   1.588667   1.464    ... 174.770004 175.       175.440002]\n",
      "Volume (unique count: 3478): [281494500 257806500 123282000 ...  60056300  57614800  29887849]\n"
     ]
    }
   ],
   "source": [
    "# To print unique values and their lengths\n",
    "for col in Tesla.columns:\n",
    "    unique_values = Tesla[col].unique()\n",
    "    print(f'{col} (unique count: {len(unique_values)}): {unique_values[:]}')\n"
   ]
  },
  {
   "cell_type": "code",
   "execution_count": 11,
   "metadata": {},
   "outputs": [
    {
     "data": {
      "text/html": [
       "<div>\n",
       "<style scoped>\n",
       "    .dataframe tbody tr th:only-of-type {\n",
       "        vertical-align: middle;\n",
       "    }\n",
       "\n",
       "    .dataframe tbody tr th {\n",
       "        vertical-align: top;\n",
       "    }\n",
       "\n",
       "    .dataframe thead th {\n",
       "        text-align: right;\n",
       "    }\n",
       "</style>\n",
       "<table border=\"1\" class=\"dataframe\">\n",
       "  <thead>\n",
       "    <tr style=\"text-align: right;\">\n",
       "      <th></th>\n",
       "      <th>Open</th>\n",
       "      <th>High</th>\n",
       "      <th>Low</th>\n",
       "      <th>Close</th>\n",
       "      <th>Adj Close</th>\n",
       "      <th>Volume</th>\n",
       "    </tr>\n",
       "  </thead>\n",
       "  <tbody>\n",
       "    <tr>\n",
       "      <th>count</th>\n",
       "      <td>3509.000000</td>\n",
       "      <td>3509.000000</td>\n",
       "      <td>3509.000000</td>\n",
       "      <td>3509.000000</td>\n",
       "      <td>3509.000000</td>\n",
       "      <td>3.509000e+03</td>\n",
       "    </tr>\n",
       "    <tr>\n",
       "      <th>mean</th>\n",
       "      <td>74.057486</td>\n",
       "      <td>75.666813</td>\n",
       "      <td>72.324719</td>\n",
       "      <td>74.032508</td>\n",
       "      <td>74.032508</td>\n",
       "      <td>9.683246e+07</td>\n",
       "    </tr>\n",
       "    <tr>\n",
       "      <th>std</th>\n",
       "      <td>101.999514</td>\n",
       "      <td>104.244555</td>\n",
       "      <td>99.528061</td>\n",
       "      <td>101.915952</td>\n",
       "      <td>101.915952</td>\n",
       "      <td>7.894845e+07</td>\n",
       "    </tr>\n",
       "    <tr>\n",
       "      <th>min</th>\n",
       "      <td>1.076000</td>\n",
       "      <td>1.108667</td>\n",
       "      <td>0.998667</td>\n",
       "      <td>1.053333</td>\n",
       "      <td>1.053333</td>\n",
       "      <td>1.777500e+06</td>\n",
       "    </tr>\n",
       "    <tr>\n",
       "      <th>25%</th>\n",
       "      <td>11.346000</td>\n",
       "      <td>11.580000</td>\n",
       "      <td>11.037333</td>\n",
       "      <td>11.328667</td>\n",
       "      <td>11.328667</td>\n",
       "      <td>4.716300e+07</td>\n",
       "    </tr>\n",
       "    <tr>\n",
       "      <th>50%</th>\n",
       "      <td>17.334000</td>\n",
       "      <td>17.563999</td>\n",
       "      <td>16.974667</td>\n",
       "      <td>17.330667</td>\n",
       "      <td>17.330667</td>\n",
       "      <td>8.203590e+07</td>\n",
       "    </tr>\n",
       "    <tr>\n",
       "      <th>75%</th>\n",
       "      <td>147.783340</td>\n",
       "      <td>150.940002</td>\n",
       "      <td>143.566666</td>\n",
       "      <td>147.383331</td>\n",
       "      <td>147.383331</td>\n",
       "      <td>1.226560e+08</td>\n",
       "    </tr>\n",
       "    <tr>\n",
       "      <th>max</th>\n",
       "      <td>411.470001</td>\n",
       "      <td>414.496674</td>\n",
       "      <td>405.666656</td>\n",
       "      <td>409.970001</td>\n",
       "      <td>409.970001</td>\n",
       "      <td>9.140820e+08</td>\n",
       "    </tr>\n",
       "  </tbody>\n",
       "</table>\n",
       "</div>"
      ],
      "text/plain": [
       "              Open         High          Low        Close    Adj Close  \\\n",
       "count  3509.000000  3509.000000  3509.000000  3509.000000  3509.000000   \n",
       "mean     74.057486    75.666813    72.324719    74.032508    74.032508   \n",
       "std     101.999514   104.244555    99.528061   101.915952   101.915952   \n",
       "min       1.076000     1.108667     0.998667     1.053333     1.053333   \n",
       "25%      11.346000    11.580000    11.037333    11.328667    11.328667   \n",
       "50%      17.334000    17.563999    16.974667    17.330667    17.330667   \n",
       "75%     147.783340   150.940002   143.566666   147.383331   147.383331   \n",
       "max     411.470001   414.496674   405.666656   409.970001   409.970001   \n",
       "\n",
       "             Volume  \n",
       "count  3.509000e+03  \n",
       "mean   9.683246e+07  \n",
       "std    7.894845e+07  \n",
       "min    1.777500e+06  \n",
       "25%    4.716300e+07  \n",
       "50%    8.203590e+07  \n",
       "75%    1.226560e+08  \n",
       "max    9.140820e+08  "
      ]
     },
     "execution_count": 11,
     "metadata": {},
     "output_type": "execute_result"
    }
   ],
   "source": [
    "Tesla.describe()"
   ]
  },
  {
   "cell_type": "markdown",
   "metadata": {},
   "source": [
    "The descriptive statistics for the dataset reveal a wide range of values with high variability, particularly in 'Open,' 'High,' 'Low,' and 'Close' prices, and 'Volume,' which has a substantial spread between its minimum and maximum values."
   ]
  },
  {
   "cell_type": "code",
   "execution_count": 12,
   "metadata": {},
   "outputs": [
    {
     "name": "stdout",
     "output_type": "stream",
     "text": [
      "<class 'pandas.core.frame.DataFrame'>\n",
      "RangeIndex: 3509 entries, 0 to 3508\n",
      "Data columns (total 7 columns):\n",
      " #   Column     Non-Null Count  Dtype  \n",
      "---  ------     --------------  -----  \n",
      " 0   Date       3509 non-null   object \n",
      " 1   Open       3509 non-null   float64\n",
      " 2   High       3509 non-null   float64\n",
      " 3   Low        3509 non-null   float64\n",
      " 4   Close      3509 non-null   float64\n",
      " 5   Adj Close  3509 non-null   float64\n",
      " 6   Volume     3509 non-null   int64  \n",
      "dtypes: float64(5), int64(1), object(1)\n",
      "memory usage: 192.0+ KB\n"
     ]
    }
   ],
   "source": [
    "Tesla.info()"
   ]
  },
  {
   "cell_type": "markdown",
   "metadata": {},
   "source": [
    "The datasets required for this analysis are adequate and appear to contain the necessary data. The dataset has no missing values and includes 5 float columns."
   ]
  },
  {
   "cell_type": "markdown",
   "metadata": {},
   "source": [
    "## 4. Data Cleaning\n",
    "\n",
    "**4.1 Validity**"
   ]
  },
  {
   "cell_type": "code",
   "execution_count": 13,
   "metadata": {},
   "outputs": [],
   "source": [
    "# Convert 'Date' to datetime column\n",
    "Tesla['Date'] = pd.to_datetime(Tesla['Date'])"
   ]
  },
  {
   "cell_type": "code",
   "execution_count": 14,
   "metadata": {},
   "outputs": [
    {
     "data": {
      "text/html": [
       "<div>\n",
       "<style scoped>\n",
       "    .dataframe tbody tr th:only-of-type {\n",
       "        vertical-align: middle;\n",
       "    }\n",
       "\n",
       "    .dataframe tbody tr th {\n",
       "        vertical-align: top;\n",
       "    }\n",
       "\n",
       "    .dataframe thead th {\n",
       "        text-align: right;\n",
       "    }\n",
       "</style>\n",
       "<table border=\"1\" class=\"dataframe\">\n",
       "  <thead>\n",
       "    <tr style=\"text-align: right;\">\n",
       "      <th></th>\n",
       "      <th>Date</th>\n",
       "      <th>Open</th>\n",
       "      <th>High</th>\n",
       "      <th>Low</th>\n",
       "      <th>Close</th>\n",
       "      <th>Adj Close</th>\n",
       "      <th>Volume</th>\n",
       "    </tr>\n",
       "  </thead>\n",
       "  <tbody>\n",
       "    <tr>\n",
       "      <th>0</th>\n",
       "      <td>2010-06-29</td>\n",
       "      <td>1.266667</td>\n",
       "      <td>1.666667</td>\n",
       "      <td>1.169333</td>\n",
       "      <td>1.592667</td>\n",
       "      <td>1.592667</td>\n",
       "      <td>281494500</td>\n",
       "    </tr>\n",
       "    <tr>\n",
       "      <th>1</th>\n",
       "      <td>2010-06-30</td>\n",
       "      <td>1.719333</td>\n",
       "      <td>2.028000</td>\n",
       "      <td>1.553333</td>\n",
       "      <td>1.588667</td>\n",
       "      <td>1.588667</td>\n",
       "      <td>257806500</td>\n",
       "    </tr>\n",
       "    <tr>\n",
       "      <th>2</th>\n",
       "      <td>2010-07-01</td>\n",
       "      <td>1.666667</td>\n",
       "      <td>1.728000</td>\n",
       "      <td>1.351333</td>\n",
       "      <td>1.464000</td>\n",
       "      <td>1.464000</td>\n",
       "      <td>123282000</td>\n",
       "    </tr>\n",
       "    <tr>\n",
       "      <th>3</th>\n",
       "      <td>2010-07-02</td>\n",
       "      <td>1.533333</td>\n",
       "      <td>1.540000</td>\n",
       "      <td>1.247333</td>\n",
       "      <td>1.280000</td>\n",
       "      <td>1.280000</td>\n",
       "      <td>77097000</td>\n",
       "    </tr>\n",
       "    <tr>\n",
       "      <th>4</th>\n",
       "      <td>2010-07-06</td>\n",
       "      <td>1.333333</td>\n",
       "      <td>1.333333</td>\n",
       "      <td>1.055333</td>\n",
       "      <td>1.074000</td>\n",
       "      <td>1.074000</td>\n",
       "      <td>103003500</td>\n",
       "    </tr>\n",
       "  </tbody>\n",
       "</table>\n",
       "</div>"
      ],
      "text/plain": [
       "        Date      Open      High       Low     Close  Adj Close     Volume\n",
       "0 2010-06-29  1.266667  1.666667  1.169333  1.592667   1.592667  281494500\n",
       "1 2010-06-30  1.719333  2.028000  1.553333  1.588667   1.588667  257806500\n",
       "2 2010-07-01  1.666667  1.728000  1.351333  1.464000   1.464000  123282000\n",
       "3 2010-07-02  1.533333  1.540000  1.247333  1.280000   1.280000   77097000\n",
       "4 2010-07-06  1.333333  1.333333  1.055333  1.074000   1.074000  103003500"
      ]
     },
     "execution_count": 14,
     "metadata": {},
     "output_type": "execute_result"
    }
   ],
   "source": [
    "Tesla.head()"
   ]
  },
  {
   "cell_type": "code",
   "execution_count": 15,
   "metadata": {},
   "outputs": [],
   "source": [
    "# Set 'Date' column as the index\n",
    "Tesla.set_index('Date', inplace=True)"
   ]
  },
  {
   "cell_type": "code",
   "execution_count": 16,
   "metadata": {},
   "outputs": [
    {
     "data": {
      "text/html": [
       "<div>\n",
       "<style scoped>\n",
       "    .dataframe tbody tr th:only-of-type {\n",
       "        vertical-align: middle;\n",
       "    }\n",
       "\n",
       "    .dataframe tbody tr th {\n",
       "        vertical-align: top;\n",
       "    }\n",
       "\n",
       "    .dataframe thead th {\n",
       "        text-align: right;\n",
       "    }\n",
       "</style>\n",
       "<table border=\"1\" class=\"dataframe\">\n",
       "  <thead>\n",
       "    <tr style=\"text-align: right;\">\n",
       "      <th></th>\n",
       "      <th>Open</th>\n",
       "      <th>High</th>\n",
       "      <th>Low</th>\n",
       "      <th>Close</th>\n",
       "      <th>Adj Close</th>\n",
       "      <th>Volume</th>\n",
       "    </tr>\n",
       "    <tr>\n",
       "      <th>Date</th>\n",
       "      <th></th>\n",
       "      <th></th>\n",
       "      <th></th>\n",
       "      <th></th>\n",
       "      <th></th>\n",
       "      <th></th>\n",
       "    </tr>\n",
       "  </thead>\n",
       "  <tbody>\n",
       "    <tr>\n",
       "      <th>2010-06-29</th>\n",
       "      <td>1.266667</td>\n",
       "      <td>1.666667</td>\n",
       "      <td>1.169333</td>\n",
       "      <td>1.592667</td>\n",
       "      <td>1.592667</td>\n",
       "      <td>281494500</td>\n",
       "    </tr>\n",
       "    <tr>\n",
       "      <th>2010-06-30</th>\n",
       "      <td>1.719333</td>\n",
       "      <td>2.028000</td>\n",
       "      <td>1.553333</td>\n",
       "      <td>1.588667</td>\n",
       "      <td>1.588667</td>\n",
       "      <td>257806500</td>\n",
       "    </tr>\n",
       "    <tr>\n",
       "      <th>2010-07-01</th>\n",
       "      <td>1.666667</td>\n",
       "      <td>1.728000</td>\n",
       "      <td>1.351333</td>\n",
       "      <td>1.464000</td>\n",
       "      <td>1.464000</td>\n",
       "      <td>123282000</td>\n",
       "    </tr>\n",
       "    <tr>\n",
       "      <th>2010-07-02</th>\n",
       "      <td>1.533333</td>\n",
       "      <td>1.540000</td>\n",
       "      <td>1.247333</td>\n",
       "      <td>1.280000</td>\n",
       "      <td>1.280000</td>\n",
       "      <td>77097000</td>\n",
       "    </tr>\n",
       "    <tr>\n",
       "      <th>2010-07-06</th>\n",
       "      <td>1.333333</td>\n",
       "      <td>1.333333</td>\n",
       "      <td>1.055333</td>\n",
       "      <td>1.074000</td>\n",
       "      <td>1.074000</td>\n",
       "      <td>103003500</td>\n",
       "    </tr>\n",
       "  </tbody>\n",
       "</table>\n",
       "</div>"
      ],
      "text/plain": [
       "                Open      High       Low     Close  Adj Close     Volume\n",
       "Date                                                                    \n",
       "2010-06-29  1.266667  1.666667  1.169333  1.592667   1.592667  281494500\n",
       "2010-06-30  1.719333  2.028000  1.553333  1.588667   1.588667  257806500\n",
       "2010-07-01  1.666667  1.728000  1.351333  1.464000   1.464000  123282000\n",
       "2010-07-02  1.533333  1.540000  1.247333  1.280000   1.280000   77097000\n",
       "2010-07-06  1.333333  1.333333  1.055333  1.074000   1.074000  103003500"
      ]
     },
     "execution_count": 16,
     "metadata": {},
     "output_type": "execute_result"
    }
   ],
   "source": [
    "Tesla.head()"
   ]
  },
  {
   "cell_type": "code",
   "execution_count": 17,
   "metadata": {},
   "outputs": [
    {
     "data": {
      "text/html": [
       "<div>\n",
       "<style scoped>\n",
       "    .dataframe tbody tr th:only-of-type {\n",
       "        vertical-align: middle;\n",
       "    }\n",
       "\n",
       "    .dataframe tbody tr th {\n",
       "        vertical-align: top;\n",
       "    }\n",
       "\n",
       "    .dataframe thead th {\n",
       "        text-align: right;\n",
       "    }\n",
       "</style>\n",
       "<table border=\"1\" class=\"dataframe\">\n",
       "  <thead>\n",
       "    <tr style=\"text-align: right;\">\n",
       "      <th></th>\n",
       "      <th>Open</th>\n",
       "      <th>High</th>\n",
       "      <th>Low</th>\n",
       "      <th>Close</th>\n",
       "      <th>Adj Close</th>\n",
       "      <th>Volume</th>\n",
       "    </tr>\n",
       "    <tr>\n",
       "      <th>Date</th>\n",
       "      <th></th>\n",
       "      <th></th>\n",
       "      <th></th>\n",
       "      <th></th>\n",
       "      <th></th>\n",
       "      <th></th>\n",
       "    </tr>\n",
       "  </thead>\n",
       "  <tbody>\n",
       "    <tr>\n",
       "      <th>2024-05-31</th>\n",
       "      <td>178.500000</td>\n",
       "      <td>180.320007</td>\n",
       "      <td>173.820007</td>\n",
       "      <td>178.080002</td>\n",
       "      <td>178.080002</td>\n",
       "      <td>67314600</td>\n",
       "    </tr>\n",
       "    <tr>\n",
       "      <th>2024-06-03</th>\n",
       "      <td>178.130005</td>\n",
       "      <td>182.639999</td>\n",
       "      <td>174.490005</td>\n",
       "      <td>176.289993</td>\n",
       "      <td>176.289993</td>\n",
       "      <td>68568900</td>\n",
       "    </tr>\n",
       "    <tr>\n",
       "      <th>2024-06-04</th>\n",
       "      <td>174.779999</td>\n",
       "      <td>177.759995</td>\n",
       "      <td>174.000000</td>\n",
       "      <td>174.770004</td>\n",
       "      <td>174.770004</td>\n",
       "      <td>60056300</td>\n",
       "    </tr>\n",
       "    <tr>\n",
       "      <th>2024-06-05</th>\n",
       "      <td>175.350006</td>\n",
       "      <td>176.149994</td>\n",
       "      <td>172.130005</td>\n",
       "      <td>175.000000</td>\n",
       "      <td>175.000000</td>\n",
       "      <td>57614800</td>\n",
       "    </tr>\n",
       "    <tr>\n",
       "      <th>2024-06-06</th>\n",
       "      <td>174.419998</td>\n",
       "      <td>176.919998</td>\n",
       "      <td>172.729996</td>\n",
       "      <td>175.440002</td>\n",
       "      <td>175.440002</td>\n",
       "      <td>29887849</td>\n",
       "    </tr>\n",
       "  </tbody>\n",
       "</table>\n",
       "</div>"
      ],
      "text/plain": [
       "                  Open        High         Low       Close   Adj Close  \\\n",
       "Date                                                                     \n",
       "2024-05-31  178.500000  180.320007  173.820007  178.080002  178.080002   \n",
       "2024-06-03  178.130005  182.639999  174.490005  176.289993  176.289993   \n",
       "2024-06-04  174.779999  177.759995  174.000000  174.770004  174.770004   \n",
       "2024-06-05  175.350006  176.149994  172.130005  175.000000  175.000000   \n",
       "2024-06-06  174.419998  176.919998  172.729996  175.440002  175.440002   \n",
       "\n",
       "              Volume  \n",
       "Date                  \n",
       "2024-05-31  67314600  \n",
       "2024-06-03  68568900  \n",
       "2024-06-04  60056300  \n",
       "2024-06-05  57614800  \n",
       "2024-06-06  29887849  "
      ]
     },
     "execution_count": 17,
     "metadata": {},
     "output_type": "execute_result"
    }
   ],
   "source": [
    "Tesla.tail()"
   ]
  },
  {
   "cell_type": "code",
   "execution_count": null,
   "metadata": {},
   "outputs": [],
   "source": []
  },
  {
   "cell_type": "markdown",
   "metadata": {},
   "source": [
    "**4.2 Accuracy**"
   ]
  },
  {
   "cell_type": "code",
   "execution_count": 37,
   "metadata": {},
   "outputs": [
    {
     "name": "stdout",
     "output_type": "stream",
     "text": [
      "Collecting yfinance\n",
      "  Downloading yfinance-0.2.40-py2.py3-none-any.whl.metadata (11 kB)\n",
      "Collecting pandas>=1.3.0 (from yfinance)\n",
      "  Downloading pandas-2.0.3-cp38-cp38-win_amd64.whl.metadata (18 kB)\n",
      "Requirement already satisfied: numpy>=1.16.5 in c:\\users\\rion\\anaconda3\\envs\\learn-env\\lib\\site-packages (from yfinance) (1.24.4)\n",
      "Collecting requests>=2.31 (from yfinance)\n",
      "  Downloading requests-2.32.3-py3-none-any.whl.metadata (4.6 kB)\n",
      "Collecting multitasking>=0.0.7 (from yfinance)\n",
      "  Downloading multitasking-0.0.11-py3-none-any.whl.metadata (5.5 kB)\n",
      "Collecting lxml>=4.9.1 (from yfinance)\n",
      "  Downloading lxml-5.2.2-cp38-cp38-win_amd64.whl.metadata (3.5 kB)\n",
      "Collecting platformdirs>=2.0.0 (from yfinance)\n",
      "  Downloading platformdirs-4.2.2-py3-none-any.whl.metadata (11 kB)\n",
      "Collecting pytz>=2022.5 (from yfinance)\n",
      "  Downloading pytz-2024.1-py2.py3-none-any.whl.metadata (22 kB)\n",
      "Collecting frozendict>=2.3.4 (from yfinance)\n",
      "  Downloading frozendict-2.4.4-cp38-cp38-win_amd64.whl.metadata (23 kB)\n",
      "Collecting peewee>=3.16.2 (from yfinance)\n",
      "  Downloading peewee-3.17.6.tar.gz (3.0 MB)\n",
      "     ---------------------------------------- 3.0/3.0 MB 942.0 kB/s eta 0:00:00\n",
      "  Installing build dependencies: started\n",
      "  Installing build dependencies: finished with status 'done'\n",
      "  Getting requirements to build wheel: started\n",
      "  Getting requirements to build wheel: finished with status 'done'\n",
      "  Preparing metadata (pyproject.toml): started\n",
      "  Preparing metadata (pyproject.toml): finished with status 'done'\n",
      "Collecting beautifulsoup4>=4.11.1 (from yfinance)\n",
      "  Downloading beautifulsoup4-4.12.3-py3-none-any.whl.metadata (3.8 kB)\n",
      "Collecting html5lib>=1.1 (from yfinance)\n",
      "  Downloading html5lib-1.1-py2.py3-none-any.whl.metadata (16 kB)\n",
      "Requirement already satisfied: soupsieve>1.2 in c:\\users\\rion\\anaconda3\\envs\\learn-env\\lib\\site-packages (from beautifulsoup4>=4.11.1->yfinance) (2.0.1)\n",
      "Requirement already satisfied: six>=1.9 in c:\\users\\rion\\anaconda3\\envs\\learn-env\\lib\\site-packages (from html5lib>=1.1->yfinance) (1.15.0)\n",
      "Requirement already satisfied: webencodings in c:\\users\\rion\\anaconda3\\envs\\learn-env\\lib\\site-packages (from html5lib>=1.1->yfinance) (0.5.1)\n",
      "Requirement already satisfied: python-dateutil>=2.8.2 in c:\\users\\rion\\anaconda3\\envs\\learn-env\\lib\\site-packages (from pandas>=1.3.0->yfinance) (2.9.0.post0)\n",
      "Requirement already satisfied: tzdata>=2022.1 in c:\\users\\rion\\anaconda3\\envs\\learn-env\\lib\\site-packages (from pandas>=1.3.0->yfinance) (2024.1)\n",
      "Collecting charset-normalizer<4,>=2 (from requests>=2.31->yfinance)\n",
      "  Downloading charset_normalizer-3.3.2-cp38-cp38-win_amd64.whl.metadata (34 kB)\n",
      "Requirement already satisfied: idna<4,>=2.5 in c:\\users\\rion\\anaconda3\\envs\\learn-env\\lib\\site-packages (from requests>=2.31->yfinance) (2.10)\n",
      "Requirement already satisfied: urllib3<3,>=1.21.1 in c:\\users\\rion\\anaconda3\\envs\\learn-env\\lib\\site-packages (from requests>=2.31->yfinance) (1.25.10)\n",
      "Requirement already satisfied: certifi>=2017.4.17 in c:\\users\\rion\\anaconda3\\envs\\learn-env\\lib\\site-packages (from requests>=2.31->yfinance) (2020.6.20)\n",
      "Downloading yfinance-0.2.40-py2.py3-none-any.whl (73 kB)\n",
      "   ---------------------------------------- 73.5/73.5 kB 4.0 MB/s eta 0:00:00\n",
      "Downloading beautifulsoup4-4.12.3-py3-none-any.whl (147 kB)\n",
      "   ---------------------------------------- 147.9/147.9 kB 9.2 MB/s eta 0:00:00\n",
      "Downloading frozendict-2.4.4-cp38-cp38-win_amd64.whl (37 kB)\n",
      "Downloading html5lib-1.1-py2.py3-none-any.whl (112 kB)\n",
      "   -------------------------------------- 112.2/112.2 kB 545.1 kB/s eta 0:00:00\n",
      "Downloading lxml-5.2.2-cp38-cp38-win_amd64.whl (3.8 MB)\n",
      "   ---------------------------------------- 3.8/3.8 MB 780.8 kB/s eta 0:00:00\n",
      "Downloading multitasking-0.0.11-py3-none-any.whl (8.5 kB)\n",
      "Downloading pandas-2.0.3-cp38-cp38-win_amd64.whl (10.8 MB)\n",
      "   ---------------------------------------- 10.8/10.8 MB 723.9 kB/s eta 0:00:00\n",
      "Downloading platformdirs-4.2.2-py3-none-any.whl (18 kB)\n",
      "Downloading pytz-2024.1-py2.py3-none-any.whl (505 kB)\n",
      "   -------------------------------------- 505.5/505.5 kB 835.1 kB/s eta 0:00:00\n",
      "Downloading requests-2.32.3-py3-none-any.whl (64 kB)\n",
      "   ---------------------------------------- 64.9/64.9 kB 205.6 kB/s eta 0:00:00\n",
      "Downloading charset_normalizer-3.3.2-cp38-cp38-win_amd64.whl (99 kB)\n",
      "   ---------------------------------------- 99.6/99.6 kB 335.9 kB/s eta 0:00:00\n",
      "Building wheels for collected packages: peewee\n",
      "  Building wheel for peewee (pyproject.toml): started\n",
      "  Building wheel for peewee (pyproject.toml): finished with status 'done'\n",
      "  Created wheel for peewee: filename=peewee-3.17.6-py3-none-any.whl size=138938 sha256=c33742a05a244da4b8b73c9b4c578fa43e5e881c8cec0b15c7853ad1b4ebcbfcNote: you may need to restart the kernel to use updated packages.\n"
     ]
    },
    {
     "name": "stderr",
     "output_type": "stream",
     "text": [
      "  WARNING: Failed to remove contents in a temporary directory 'C:\\Users\\Rion\\anaconda3\\envs\\learn-env\\Lib\\site-packages\\~andas'.\n",
      "  You can safely remove it manually.\n",
      "ERROR: pip's dependency resolver does not currently take into account all the packages that are installed. This behaviour is the source of the following dependency conflicts.\n",
      "fbprophet 0.7.1 requires cmdstanpy==0.9.5, which is not installed.\n",
      "google-api-core 1.22.2 requires protobuf>=3.12.0, but you have protobuf 3.11.2 which is incompatible.\n",
      "tensorflow 2.3.1 requires numpy<1.19.0,>=1.16.0, but you have numpy 1.24.4 which is incompatible.\n",
      "\n",
      "[notice] A new release of pip is available: 24.0 -> 24.1.2\n",
      "[notice] To update, run: python.exe -m pip install --upgrade pip\n"
     ]
    },
    {
     "name": "stdout",
     "output_type": "stream",
     "text": [
      "\n",
      "  Stored in directory: c:\\users\\rion\\appdata\\local\\pip\\cache\\wheels\\3a\\cd\\3a\\abf2568bf80fd95a4be8f7954d9e4eefc190c1233516a0a029\n",
      "Successfully built peewee\n",
      "Installing collected packages: pytz, peewee, multitasking, platformdirs, lxml, html5lib, frozendict, charset-normalizer, beautifulsoup4, requests, pandas, yfinance\n",
      "  Attempting uninstall: pytz\n",
      "    Found existing installation: pytz 2020.1\n",
      "    Uninstalling pytz-2020.1:\n",
      "      Successfully uninstalled pytz-2020.1\n",
      "  Attempting uninstall: lxml\n",
      "    Found existing installation: lxml 4.6.1\n",
      "    Uninstalling lxml-4.6.1:\n",
      "      Successfully uninstalled lxml-4.6.1\n",
      "  Attempting uninstall: beautifulsoup4\n",
      "    Found existing installation: beautifulsoup4 4.9.3\n",
      "    Uninstalling beautifulsoup4-4.9.3:\n",
      "      Successfully uninstalled beautifulsoup4-4.9.3\n",
      "  Attempting uninstall: requests\n",
      "    Found existing installation: requests 2.24.0\n",
      "    Uninstalling requests-2.24.0:\n",
      "      Successfully uninstalled requests-2.24.0\n",
      "  Attempting uninstall: pandas\n",
      "    Found existing installation: pandas 1.1.3\n",
      "    Uninstalling pandas-1.1.3:\n",
      "      Successfully uninstalled pandas-1.1.3\n",
      "Successfully installed beautifulsoup4-4.12.3 charset-normalizer-3.3.2 frozendict-2.4.4 html5lib-1.1 lxml-5.2.2 multitasking-0.0.11 pandas-2.0.3 peewee-3.17.6 platformdirs-4.2.2 pytz-2024.1 requests-2.32.3 yfinance-0.2.40\n"
     ]
    }
   ],
   "source": [
    "pip install yfinance"
   ]
  },
  {
   "cell_type": "code",
   "execution_count": 18,
   "metadata": {},
   "outputs": [
    {
     "ename": "ModuleNotFoundError",
     "evalue": "No module named 'yfinance'",
     "output_type": "error",
     "traceback": [
      "\u001b[1;31m---------------------------------------------------------------------------\u001b[0m",
      "\u001b[1;31mModuleNotFoundError\u001b[0m                       Traceback (most recent call last)",
      "\u001b[1;32m<ipython-input-18-f756297b7d85>\u001b[0m in \u001b[0;36m<module>\u001b[1;34m\u001b[0m\n\u001b[1;32m----> 1\u001b[1;33m \u001b[1;32mimport\u001b[0m \u001b[0myfinance\u001b[0m \u001b[1;32mas\u001b[0m \u001b[0myf\u001b[0m\u001b[1;33m\u001b[0m\u001b[1;33m\u001b[0m\u001b[0m\n\u001b[0m\u001b[0;32m      2\u001b[0m \u001b[1;31m# Fetch real-world data using yfinance\u001b[0m\u001b[1;33m\u001b[0m\u001b[1;33m\u001b[0m\u001b[1;33m\u001b[0m\u001b[0m\n\u001b[0;32m      3\u001b[0m \u001b[0mticker\u001b[0m \u001b[1;33m=\u001b[0m \u001b[1;34m'TSLA'\u001b[0m\u001b[1;33m\u001b[0m\u001b[1;33m\u001b[0m\u001b[0m\n\u001b[0;32m      4\u001b[0m \u001b[0mreal_world_data\u001b[0m \u001b[1;33m=\u001b[0m \u001b[0myf\u001b[0m\u001b[1;33m.\u001b[0m\u001b[0mdownload\u001b[0m\u001b[1;33m(\u001b[0m\u001b[0mticker\u001b[0m\u001b[1;33m,\u001b[0m \u001b[0mstart\u001b[0m\u001b[1;33m=\u001b[0m\u001b[0mTesla\u001b[0m\u001b[1;33m.\u001b[0m\u001b[0mindex\u001b[0m\u001b[1;33m.\u001b[0m\u001b[0mmin\u001b[0m\u001b[1;33m(\u001b[0m\u001b[1;33m)\u001b[0m\u001b[1;33m,\u001b[0m \u001b[0mend\u001b[0m\u001b[1;33m=\u001b[0m\u001b[0mTesla\u001b[0m\u001b[1;33m.\u001b[0m\u001b[0mindex\u001b[0m\u001b[1;33m.\u001b[0m\u001b[0mmax\u001b[0m\u001b[1;33m(\u001b[0m\u001b[1;33m)\u001b[0m\u001b[1;33m)\u001b[0m\u001b[1;33m\u001b[0m\u001b[1;33m\u001b[0m\u001b[0m\n\u001b[0;32m      5\u001b[0m \u001b[1;33m\u001b[0m\u001b[0m\n",
      "\u001b[1;31mModuleNotFoundError\u001b[0m: No module named 'yfinance'"
     ]
    }
   ],
   "source": [
    "import yfinance as yf\n",
    "# Fetch real-world data using yfinance\n",
    "ticker = 'TSLA'\n",
    "real_world_data = yf.download(ticker, start=Tesla.index.min(), end=Tesla.index.max())\n",
    "\n",
    "# Extract relevant columns from real-world data\n",
    "real_world_data = real_world_data[['Open', 'High', 'Low', 'Close','Adj Close','Volume']]\n",
    "# Compare your dataset with the real-world data\n",
    "comparison = Tesla[['Open', 'High', 'Low', 'Close','Adj Close', 'Volume']].equals(real_world_data)\n",
    "\n",
    "# Print the result\n",
    "if comparison:\n",
    "    print(\"Your dataset matches the real-world data for Tesla (TSLA).\")\n",
    "else:\n",
    "    print(\"There are discrepancies between your dataset and the real-world data for Tesla (TSLA).\")"
   ]
  },
  {
   "cell_type": "code",
   "execution_count": null,
   "metadata": {},
   "outputs": [],
   "source": [
    "# Check for missing values\n",
    "print(\"Missing values after cleaning:\")\n",
    "print(Tesla.isnull().sum())"
   ]
  },
  {
   "cell_type": "code",
   "execution_count": null,
   "metadata": {},
   "outputs": [],
   "source": [
    "print(Tesla.dtypes)"
   ]
  },
  {
   "cell_type": "code",
   "execution_count": 19,
   "metadata": {},
   "outputs": [
    {
     "name": "stdout",
     "output_type": "stream",
     "text": [
      "0\n"
     ]
    }
   ],
   "source": [
    "print(Tesla.duplicated().sum())"
   ]
  },
  {
   "cell_type": "code",
   "execution_count": 20,
   "metadata": {},
   "outputs": [
    {
     "data": {
      "image/png": "[encoded data removed]",
      "text/plain": [
       "<Figure size 1080x720 with 6 Axes>"
      ]
     },
     "metadata": {
      "needs_background": "light"
     },
     "output_type": "display_data"
    }
   ],
   "source": [
    "import seaborn as sns\n",
    "import matplotlib.pyplot as plt\n",
    "# Select the relevant columns\n",
    "selected_columns = ['Open', 'High', 'Low', 'Close', 'Adj Close', 'Volume']\n",
    "tesla_data = Tesla[selected_columns]\n",
    "# Create boxplots for each column\n",
    "plt.figure(figsize=(15, 10))\n",
    "for i, column in enumerate(selected_columns, 1):\n",
    "    plt.subplot(2, 3, i)\n",
    "    sns.boxplot(y=tesla_data[column])\n",
    "    plt.title(f'Boxplot of {column}')\n",
    "    \n",
    "plt.tight_layout()\n",
    "plt.show()"
   ]
  },
  {
   "cell_type": "markdown",
   "metadata": {},
   "source": [
    "The boxplots show the distribution of Tesla stock prices and trading volumes. Here's an analysis of each plot:\n",
    "\n",
    "### Boxplot Analysis:\n",
    "\n",
    "1. **Boxplot of Open**:\n",
    "    - The opening prices are mostly concentrated between approximately 50 and 125.\n",
    "    - There are several outliers above 300, indicating days when the stock opened at significantly higher prices.\n",
    "\n",
    "2. **Boxplot of High**:\n",
    "    - The high prices follow a similar pattern to the opening prices, with most values between 50 and 150.\n",
    "    - Outliers are observed above 300, indicating days with exceptionally high stock prices.\n",
    "\n",
    "3. **Boxplot of Low**:\n",
    "    - The low prices are generally between 50 and 125, similar to the opening prices.\n",
    "    - Outliers above 300 suggest some days had low prices that were relatively high compared to the rest of the dataset.\n",
    "\n",
    "4. **Boxplot of Close**:\n",
    "    - The closing prices are primarily between 50 and 125.\n",
    "    - Outliers above 300 indicate days when the stock closed at much higher prices than usual.\n",
    "\n",
    "5. **Boxplot of Adj Close**:\n",
    "    - The adjusted closing prices follow the same pattern as the closing prices, being between 50 and 125.\n",
    "    - Similar outliers are observed above 300.\n",
    "\n",
    "6. **Boxplot of Volume**:\n",
    "    - The trading volume is mostly concentrated between 0 and 2e7.\n",
    "    - There are numerous outliers above 6e7, indicating days with exceptionally high trading volumes.\n",
    "\n",
    "### Key Observations:\n",
    "\n",
    "- **Central Tendency**: For most price metrics (Open, High, Low, Close, Adj Close), the central tendency is within the range of 50 to 125.\n",
    "- **Outliers**: Significant outliers are present across all price metrics, especially above the 300 mark, suggesting some days with extremely high stock prices.\n",
    "- **Volume**: The trading volume shows a high concentration at lower values, but there are many days with unusually high trading volumes, as indicated by the outliers.\n",
    "\n",
    "### Conclusion:\n",
    "\n",
    "- The boxplots reveal that while Tesla's stock prices generally stay within a certain range, there are instances of extreme price movements which could be due to market events or company-specific news.\n",
    "- The trading volume data suggests that the stock is usually traded within a predictable range, but there are periods of significantly higher trading activity.\n",
    "This analysis helps in understanding the distribution and volatility of Tesla's stock prices and trading volumes. Further investigation into the causes of the outliers could provide insights into what drives these extreme values."
   ]
  },
  {
   "cell_type": "code",
   "execution_count": 21,
   "metadata": {},
   "outputs": [
    {
     "name": "stdout",
     "output_type": "stream",
     "text": [
      "Number of inconsistent high-low price rows: 0\n",
      "Number of inconsistent close price rows: 0\n"
     ]
    }
   ],
   "source": [
    "# Check that high price is greater than or equal to low price\n",
    "inconsistent_high_low = Tesla[Tesla['High'] < Tesla['Low']]\n",
    "print(f\"Number of inconsistent high-low price rows: {len(inconsistent_high_low)}\")\n",
    "# Check that closing prices are within the range of high and low prices\n",
    "inconsistent_close = Tesla[(Tesla['Close'] < Tesla['Low']) | (Tesla['Close'] > Tesla['High'])]\n",
    "print(f\"Number of inconsistent close price rows: {len(inconsistent_close)}\")"
   ]
  },
  {
   "cell_type": "markdown",
   "metadata": {},
   "source": [
    "## 5. EDA\n",
    "\n",
    "Next, we will performing Exploratory Data Analysis (EDA) to uncover patterns, trends, and relationships within the dataset, using:\n",
    "- Univeriate analysis \n",
    "- Bivariate analysis"
   ]
  },
  {
   "cell_type": "code",
   "execution_count": 22,
   "metadata": {},
   "outputs": [
    {
     "data": {
      "image/png": "[encoded data removed]",
      "text/plain": [
       "<Figure size 432x288 with 1 Axes>"
      ]
     },
     "metadata": {
      "needs_background": "light"
     },
     "output_type": "display_data"
    }
   ],
   "source": [
    "Tesla['Adj Close'].plot(title='Adj Close Over Time')\n",
    "plt.xlabel('Date')\n",
    "plt.ylabel('Adj Close')\n",
    "plt.show()"
   ]
  },
  {
   "cell_type": "code",
   "execution_count": 23,
   "metadata": {},
   "outputs": [
    {
     "data": {
      "image/png": "[encoded data removed]",
      "text/plain": [
       "<Figure size 432x288 with 1 Axes>"
      ]
     },
     "metadata": {
      "needs_background": "light"
     },
     "output_type": "display_data"
    }
   ],
   "source": [
    "Tesla['Adj Close'].plot(title='Adj Close Over Time', xlim=('2020-06-06','2024-06-06'))\n",
    "plt.xlabel('Date')\n",
    "plt.ylabel('Adj Close')\n",
    "plt.show()"
   ]
  },
  {
   "cell_type": "markdown",
   "metadata": {},
   "source": [
    "Checking for anual trend."
   ]
  },
  {
   "cell_type": "code",
   "execution_count": 24,
   "metadata": {},
   "outputs": [
    {
     "data": {
      "text/plain": [
       "Date\n",
       "2010-12-31      1.556123\n",
       "2011-12-31      1.786984\n",
       "2012-12-31      2.077907\n",
       "2013-12-31      6.960082\n",
       "2014-12-31     14.888606\n",
       "2015-12-31     15.336193\n",
       "2016-12-31     13.984484\n",
       "2017-12-31     20.954420\n",
       "2018-12-31     21.153995\n",
       "2019-12-31     18.235347\n",
       "2020-12-31     96.665689\n",
       "2021-12-31    259.998162\n",
       "2022-12-31    263.093081\n",
       "2023-12-31    217.475240\n",
       "2024-12-31    185.024312\n",
       "Freq: A-DEC, Name: Adj Close, dtype: float64"
      ]
     },
     "execution_count": 24,
     "metadata": {},
     "output_type": "execute_result"
    }
   ],
   "source": [
    "Tesla.resample(rule='A').mean()['Adj Close']"
   ]
  },
  {
   "cell_type": "code",
   "execution_count": 25,
   "metadata": {},
   "outputs": [
    {
     "data": {
      "image/png": "[encoded data removed]",
      "text/plain": [
       "<Figure size 432x288 with 1 Axes>"
      ]
     },
     "metadata": {
      "needs_background": "light"
     },
     "output_type": "display_data"
    }
   ],
   "source": [
    "Tesla.resample(rule='A').mean()['Adj Close'].plot(title='Adj Close Anual Trend Between 2020-2024', xlim=('2020-06-06','2024-06-06'))\n",
    "plt.xlabel('Date')\n",
    "plt.ylabel('Adj Close')\n",
    "plt.show()"
   ]
  },
  {
   "cell_type": "code",
   "execution_count": 26,
   "metadata": {},
   "outputs": [
    {
     "data": {
      "image/png": "[encoded data removed]",
      "text/plain": [
       "<Figure size 432x288 with 1 Axes>"
      ]
     },
     "metadata": {
      "needs_background": "light"
     },
     "output_type": "display_data"
    }
   ],
   "source": [
    "Tesla.resample(rule='M').mean()['Adj Close'].plot(title='Adj Close Monthly Trend Between 2020-2024', xlim=('2020-06-06','2024-06-06'))\n",
    "plt.xlabel('Date')\n",
    "plt.ylabel('Adj Close')\n",
    "plt.show()"
   ]
  },
  {
   "cell_type": "code",
   "execution_count": 27,
   "metadata": {},
   "outputs": [
    {
     "data": {
      "image/png": "[encoded data removed]",
      "text/plain": [
       "<Figure size 432x288 with 1 Axes>"
      ]
     },
     "metadata": {
      "needs_background": "light"
     },
     "output_type": "display_data"
    }
   ],
   "source": [
    "Tesla.resample(rule='Q').mean()['Adj Close'].plot(title='Adj Close Quaterly Trend Between 2020-2024', xlim=('2020-06-06','2024-06-06'))\n",
    "plt.xlabel('Date')\n",
    "plt.ylabel('Adj Close')\n",
    "plt.show()"
   ]
  },
  {
   "cell_type": "markdown",
   "metadata": {},
   "source": [
    "smoothening our timeseries makes forcasting easier.We will perform verious smoothening methods to assertain the best curve.\n",
    "\n",
    "**simple Moving Average**"
   ]
  },
  {
   "cell_type": "code",
   "execution_count": 28,
   "metadata": {},
   "outputs": [
    {
     "data": {
      "text/html": [
       "<div>\n",
       "<style scoped>\n",
       "    .dataframe tbody tr th:only-of-type {\n",
       "        vertical-align: middle;\n",
       "    }\n",
       "\n",
       "    .dataframe tbody tr th {\n",
       "        vertical-align: top;\n",
       "    }\n",
       "\n",
       "    .dataframe thead th {\n",
       "        text-align: right;\n",
       "    }\n",
       "</style>\n",
       "<table border=\"1\" class=\"dataframe\">\n",
       "  <thead>\n",
       "    <tr style=\"text-align: right;\">\n",
       "      <th></th>\n",
       "      <th>Open</th>\n",
       "      <th>High</th>\n",
       "      <th>Low</th>\n",
       "      <th>Close</th>\n",
       "      <th>Adj Close</th>\n",
       "      <th>Volume</th>\n",
       "      <th>Adj_close_sma</th>\n",
       "    </tr>\n",
       "    <tr>\n",
       "      <th>Date</th>\n",
       "      <th></th>\n",
       "      <th></th>\n",
       "      <th></th>\n",
       "      <th></th>\n",
       "      <th></th>\n",
       "      <th></th>\n",
       "      <th></th>\n",
       "    </tr>\n",
       "  </thead>\n",
       "  <tbody>\n",
       "    <tr>\n",
       "      <th>2010-06-29</th>\n",
       "      <td>1.266667</td>\n",
       "      <td>1.666667</td>\n",
       "      <td>1.169333</td>\n",
       "      <td>1.592667</td>\n",
       "      <td>1.592667</td>\n",
       "      <td>281494500</td>\n",
       "      <td>NaN</td>\n",
       "    </tr>\n",
       "    <tr>\n",
       "      <th>2010-06-30</th>\n",
       "      <td>1.719333</td>\n",
       "      <td>2.028000</td>\n",
       "      <td>1.553333</td>\n",
       "      <td>1.588667</td>\n",
       "      <td>1.588667</td>\n",
       "      <td>257806500</td>\n",
       "      <td>NaN</td>\n",
       "    </tr>\n",
       "    <tr>\n",
       "      <th>2010-07-01</th>\n",
       "      <td>1.666667</td>\n",
       "      <td>1.728000</td>\n",
       "      <td>1.351333</td>\n",
       "      <td>1.464000</td>\n",
       "      <td>1.464000</td>\n",
       "      <td>123282000</td>\n",
       "      <td>NaN</td>\n",
       "    </tr>\n",
       "    <tr>\n",
       "      <th>2010-07-02</th>\n",
       "      <td>1.533333</td>\n",
       "      <td>1.540000</td>\n",
       "      <td>1.247333</td>\n",
       "      <td>1.280000</td>\n",
       "      <td>1.280000</td>\n",
       "      <td>77097000</td>\n",
       "      <td>NaN</td>\n",
       "    </tr>\n",
       "    <tr>\n",
       "      <th>2010-07-06</th>\n",
       "      <td>1.333333</td>\n",
       "      <td>1.333333</td>\n",
       "      <td>1.055333</td>\n",
       "      <td>1.074000</td>\n",
       "      <td>1.074000</td>\n",
       "      <td>103003500</td>\n",
       "      <td>NaN</td>\n",
       "    </tr>\n",
       "    <tr>\n",
       "      <th>2010-07-07</th>\n",
       "      <td>1.093333</td>\n",
       "      <td>1.108667</td>\n",
       "      <td>0.998667</td>\n",
       "      <td>1.053333</td>\n",
       "      <td>1.053333</td>\n",
       "      <td>103825500</td>\n",
       "      <td>NaN</td>\n",
       "    </tr>\n",
       "    <tr>\n",
       "      <th>2010-07-08</th>\n",
       "      <td>1.076000</td>\n",
       "      <td>1.168000</td>\n",
       "      <td>1.038000</td>\n",
       "      <td>1.164000</td>\n",
       "      <td>1.164000</td>\n",
       "      <td>115671000</td>\n",
       "      <td>NaN</td>\n",
       "    </tr>\n",
       "    <tr>\n",
       "      <th>2010-07-09</th>\n",
       "      <td>1.172000</td>\n",
       "      <td>1.193333</td>\n",
       "      <td>1.103333</td>\n",
       "      <td>1.160000</td>\n",
       "      <td>1.160000</td>\n",
       "      <td>60759000</td>\n",
       "      <td>NaN</td>\n",
       "    </tr>\n",
       "    <tr>\n",
       "      <th>2010-07-12</th>\n",
       "      <td>1.196667</td>\n",
       "      <td>1.204667</td>\n",
       "      <td>1.133333</td>\n",
       "      <td>1.136667</td>\n",
       "      <td>1.136667</td>\n",
       "      <td>33037500</td>\n",
       "      <td>NaN</td>\n",
       "    </tr>\n",
       "    <tr>\n",
       "      <th>2010-07-13</th>\n",
       "      <td>1.159333</td>\n",
       "      <td>1.242667</td>\n",
       "      <td>1.126667</td>\n",
       "      <td>1.209333</td>\n",
       "      <td>1.209333</td>\n",
       "      <td>40201500</td>\n",
       "      <td>1.272267</td>\n",
       "    </tr>\n",
       "    <tr>\n",
       "      <th>2010-07-14</th>\n",
       "      <td>1.196000</td>\n",
       "      <td>1.343333</td>\n",
       "      <td>1.184000</td>\n",
       "      <td>1.322667</td>\n",
       "      <td>1.322667</td>\n",
       "      <td>62928000</td>\n",
       "      <td>1.245267</td>\n",
       "    </tr>\n",
       "    <tr>\n",
       "      <th>2010-07-15</th>\n",
       "      <td>1.329333</td>\n",
       "      <td>1.433333</td>\n",
       "      <td>1.266667</td>\n",
       "      <td>1.326000</td>\n",
       "      <td>1.326000</td>\n",
       "      <td>56097000</td>\n",
       "      <td>1.219000</td>\n",
       "    </tr>\n",
       "    <tr>\n",
       "      <th>2010-07-16</th>\n",
       "      <td>1.380000</td>\n",
       "      <td>1.420000</td>\n",
       "      <td>1.336667</td>\n",
       "      <td>1.376000</td>\n",
       "      <td>1.376000</td>\n",
       "      <td>39319500</td>\n",
       "      <td>1.210200</td>\n",
       "    </tr>\n",
       "    <tr>\n",
       "      <th>2010-07-19</th>\n",
       "      <td>1.424667</td>\n",
       "      <td>1.483333</td>\n",
       "      <td>1.394667</td>\n",
       "      <td>1.460667</td>\n",
       "      <td>1.460667</td>\n",
       "      <td>37297500</td>\n",
       "      <td>1.228267</td>\n",
       "    </tr>\n",
       "    <tr>\n",
       "      <th>2010-07-20</th>\n",
       "      <td>1.456667</td>\n",
       "      <td>1.456667</td>\n",
       "      <td>1.336667</td>\n",
       "      <td>1.353333</td>\n",
       "      <td>1.353333</td>\n",
       "      <td>27379500</td>\n",
       "      <td>1.256200</td>\n",
       "    </tr>\n",
       "    <tr>\n",
       "      <th>2010-07-21</th>\n",
       "      <td>1.377333</td>\n",
       "      <td>1.393333</td>\n",
       "      <td>1.300000</td>\n",
       "      <td>1.348000</td>\n",
       "      <td>1.348000</td>\n",
       "      <td>18787500</td>\n",
       "      <td>1.285667</td>\n",
       "    </tr>\n",
       "  </tbody>\n",
       "</table>\n",
       "</div>"
      ],
      "text/plain": [
       "                Open      High       Low     Close  Adj Close     Volume  \\\n",
       "Date                                                                       \n",
       "2010-06-29  1.266667  1.666667  1.169333  1.592667   1.592667  281494500   \n",
       "2010-06-30  1.719333  2.028000  1.553333  1.588667   1.588667  257806500   \n",
       "2010-07-01  1.666667  1.728000  1.351333  1.464000   1.464000  123282000   \n",
       "2010-07-02  1.533333  1.540000  1.247333  1.280000   1.280000   77097000   \n",
       "2010-07-06  1.333333  1.333333  1.055333  1.074000   1.074000  103003500   \n",
       "2010-07-07  1.093333  1.108667  0.998667  1.053333   1.053333  103825500   \n",
       "2010-07-08  1.076000  1.168000  1.038000  1.164000   1.164000  115671000   \n",
       "2010-07-09  1.172000  1.193333  1.103333  1.160000   1.160000   60759000   \n",
       "2010-07-12  1.196667  1.204667  1.133333  1.136667   1.136667   33037500   \n",
       "2010-07-13  1.159333  1.242667  1.126667  1.209333   1.209333   40201500   \n",
       "2010-07-14  1.196000  1.343333  1.184000  1.322667   1.322667   62928000   \n",
       "2010-07-15  1.329333  1.433333  1.266667  1.326000   1.326000   56097000   \n",
       "2010-07-16  1.380000  1.420000  1.336667  1.376000   1.376000   39319500   \n",
       "2010-07-19  1.424667  1.483333  1.394667  1.460667   1.460667   37297500   \n",
       "2010-07-20  1.456667  1.456667  1.336667  1.353333   1.353333   27379500   \n",
       "2010-07-21  1.377333  1.393333  1.300000  1.348000   1.348000   18787500   \n",
       "\n",
       "            Adj_close_sma  \n",
       "Date                       \n",
       "2010-06-29            NaN  \n",
       "2010-06-30            NaN  \n",
       "2010-07-01            NaN  \n",
       "2010-07-02            NaN  \n",
       "2010-07-06            NaN  \n",
       "2010-07-07            NaN  \n",
       "2010-07-08            NaN  \n",
       "2010-07-09            NaN  \n",
       "2010-07-12            NaN  \n",
       "2010-07-13       1.272267  \n",
       "2010-07-14       1.245267  \n",
       "2010-07-15       1.219000  \n",
       "2010-07-16       1.210200  \n",
       "2010-07-19       1.228267  \n",
       "2010-07-20       1.256200  \n",
       "2010-07-21       1.285667  "
      ]
     },
     "execution_count": 28,
     "metadata": {},
     "output_type": "execute_result"
    }
   ],
   "source": [
    "# simple Moving Average, gives power to old data\n",
    "Tesla['Adj_close_sma']= Tesla['Adj Close'].rolling(window=10).mean()\n",
    "Tesla.head(16)"
   ]
  },
  {
   "cell_type": "code",
   "execution_count": 29,
   "metadata": {},
   "outputs": [
    {
     "data": {
      "image/png": "[encoded data removed]",
      "text/plain": [
       "<Figure size 432x288 with 1 Axes>"
      ]
     },
     "metadata": {
      "needs_background": "light"
     },
     "output_type": "display_data"
    }
   ],
   "source": [
    "Tesla[['Adj Close','Adj_close_sma']].plot(title='Adj Close Over Time')\n",
    "plt.xlabel('Date')\n",
    "plt.ylabel('Adj Close')\n",
    "plt.show()"
   ]
  },
  {
   "cell_type": "markdown",
   "metadata": {},
   "source": [
    "Notice that the new feature Adj_close_sma gives a smoother graph.we can try using a window of 200."
   ]
  },
  {
   "cell_type": "code",
   "execution_count": 30,
   "metadata": {},
   "outputs": [
    {
     "data": {
      "image/png": "[encoded data removed]",
      "text/plain": [
       "<Figure size 432x288 with 1 Axes>"
      ]
     },
     "metadata": {
      "needs_background": "light"
     },
     "output_type": "display_data"
    }
   ],
   "source": [
    "# simple Moving Average\n",
    "Tesla['Adj_close_sma_200']= Tesla['Adj Close'].rolling(window=200).mean()\n",
    "Tesla.head()\n",
    "\n",
    "# plot\n",
    "Tesla[['Adj Close','Adj_close_sma','Adj_close_sma_200']].plot(title='Adj Close SMA Over Time')\n",
    "plt.xlabel('Date')\n",
    "plt.ylabel('Adj Close')\n",
    "plt.show()"
   ]
  },
  {
   "cell_type": "markdown",
   "metadata": {},
   "source": [
    "A window of 200 seems to produce a more smoother curve.\n",
    "\n",
    "\n",
    "**Cumulative Moving Average**"
   ]
  },
  {
   "cell_type": "code",
   "execution_count": 31,
   "metadata": {},
   "outputs": [
    {
     "data": {
      "image/png": "[encoded data removed]",
      "text/plain": [
       "<Figure size 432x288 with 1 Axes>"
      ]
     },
     "metadata": {
      "needs_background": "light"
     },
     "output_type": "display_data"
    }
   ],
   "source": [
    "Tesla['Adj Close'].expanding().mean().plot(title='Adj_Close_cma Over Time')\n",
    "plt.xlabel('Date')\n",
    "plt.ylabel('Adj Close')\n",
    "plt.show()"
   ]
  },
  {
   "cell_type": "markdown",
   "metadata": {},
   "source": [
    "**Expotential Moving Average**"
   ]
  },
  {
   "cell_type": "code",
   "execution_count": 32,
   "metadata": {},
   "outputs": [
    {
     "data": {
      "text/html": [
       "<div>\n",
       "<style scoped>\n",
       "    .dataframe tbody tr th:only-of-type {\n",
       "        vertical-align: middle;\n",
       "    }\n",
       "\n",
       "    .dataframe tbody tr th {\n",
       "        vertical-align: top;\n",
       "    }\n",
       "\n",
       "    .dataframe thead th {\n",
       "        text-align: right;\n",
       "    }\n",
       "</style>\n",
       "<table border=\"1\" class=\"dataframe\">\n",
       "  <thead>\n",
       "    <tr style=\"text-align: right;\">\n",
       "      <th></th>\n",
       "      <th>Open</th>\n",
       "      <th>High</th>\n",
       "      <th>Low</th>\n",
       "      <th>Close</th>\n",
       "      <th>Adj Close</th>\n",
       "      <th>Volume</th>\n",
       "      <th>Adj_close_sma</th>\n",
       "      <th>Adj_close_sma_200</th>\n",
       "      <th>Adj_close_ema_20</th>\n",
       "    </tr>\n",
       "    <tr>\n",
       "      <th>Date</th>\n",
       "      <th></th>\n",
       "      <th></th>\n",
       "      <th></th>\n",
       "      <th></th>\n",
       "      <th></th>\n",
       "      <th></th>\n",
       "      <th></th>\n",
       "      <th></th>\n",
       "      <th></th>\n",
       "    </tr>\n",
       "  </thead>\n",
       "  <tbody>\n",
       "    <tr>\n",
       "      <th>2010-06-29</th>\n",
       "      <td>1.266667</td>\n",
       "      <td>1.666667</td>\n",
       "      <td>1.169333</td>\n",
       "      <td>1.592667</td>\n",
       "      <td>1.592667</td>\n",
       "      <td>281494500</td>\n",
       "      <td>NaN</td>\n",
       "      <td>NaN</td>\n",
       "      <td>1.592667</td>\n",
       "    </tr>\n",
       "    <tr>\n",
       "      <th>2010-06-30</th>\n",
       "      <td>1.719333</td>\n",
       "      <td>2.028000</td>\n",
       "      <td>1.553333</td>\n",
       "      <td>1.588667</td>\n",
       "      <td>1.588667</td>\n",
       "      <td>257806500</td>\n",
       "      <td>NaN</td>\n",
       "      <td>NaN</td>\n",
       "      <td>1.590567</td>\n",
       "    </tr>\n",
       "    <tr>\n",
       "      <th>2010-07-01</th>\n",
       "      <td>1.666667</td>\n",
       "      <td>1.728000</td>\n",
       "      <td>1.351333</td>\n",
       "      <td>1.464000</td>\n",
       "      <td>1.464000</td>\n",
       "      <td>123282000</td>\n",
       "      <td>NaN</td>\n",
       "      <td>NaN</td>\n",
       "      <td>1.544092</td>\n",
       "    </tr>\n",
       "    <tr>\n",
       "      <th>2010-07-02</th>\n",
       "      <td>1.533333</td>\n",
       "      <td>1.540000</td>\n",
       "      <td>1.247333</td>\n",
       "      <td>1.280000</td>\n",
       "      <td>1.280000</td>\n",
       "      <td>77097000</td>\n",
       "      <td>NaN</td>\n",
       "      <td>NaN</td>\n",
       "      <td>1.467853</td>\n",
       "    </tr>\n",
       "    <tr>\n",
       "      <th>2010-07-06</th>\n",
       "      <td>1.333333</td>\n",
       "      <td>1.333333</td>\n",
       "      <td>1.055333</td>\n",
       "      <td>1.074000</td>\n",
       "      <td>1.074000</td>\n",
       "      <td>103003500</td>\n",
       "      <td>NaN</td>\n",
       "      <td>NaN</td>\n",
       "      <td>1.372583</td>\n",
       "    </tr>\n",
       "  </tbody>\n",
       "</table>\n",
       "</div>"
      ],
      "text/plain": [
       "                Open      High       Low     Close  Adj Close     Volume  \\\n",
       "Date                                                                       \n",
       "2010-06-29  1.266667  1.666667  1.169333  1.592667   1.592667  281494500   \n",
       "2010-06-30  1.719333  2.028000  1.553333  1.588667   1.588667  257806500   \n",
       "2010-07-01  1.666667  1.728000  1.351333  1.464000   1.464000  123282000   \n",
       "2010-07-02  1.533333  1.540000  1.247333  1.280000   1.280000   77097000   \n",
       "2010-07-06  1.333333  1.333333  1.055333  1.074000   1.074000  103003500   \n",
       "\n",
       "            Adj_close_sma  Adj_close_sma_200  Adj_close_ema_20  \n",
       "Date                                                            \n",
       "2010-06-29            NaN                NaN          1.592667  \n",
       "2010-06-30            NaN                NaN          1.590567  \n",
       "2010-07-01            NaN                NaN          1.544092  \n",
       "2010-07-02            NaN                NaN          1.467853  \n",
       "2010-07-06            NaN                NaN          1.372583  "
      ]
     },
     "execution_count": 32,
     "metadata": {},
     "output_type": "execute_result"
    }
   ],
   "source": [
    "Tesla['Adj_close_ema_20']= Tesla['Adj Close'].ewm(span=20).mean()\n",
    "Tesla.head()"
   ]
  },
  {
   "cell_type": "code",
   "execution_count": 33,
   "metadata": {},
   "outputs": [
    {
     "data": {
      "image/png": "[encoded data removed]",
      "text/plain": [
       "<Figure size 432x288 with 1 Axes>"
      ]
     },
     "metadata": {
      "needs_background": "light"
     },
     "output_type": "display_data"
    }
   ],
   "source": [
    "Tesla[['Adj Close','Adj_close_ema_20']].plot(title='Adj Close Over Time')\n",
    "plt.xlabel('Date')\n",
    "plt.ylabel('Adj Close')\n",
    "plt.show()"
   ]
  },
  {
   "cell_type": "markdown",
   "metadata": {},
   "source": [
    "EMA seems to produce a more smoother plot.\n",
    "\n",
    "**Expotential Weighted Moving Average**"
   ]
  },
  {
   "cell_type": "code",
   "execution_count": 34,
   "metadata": {},
   "outputs": [
    {
     "data": {
      "text/html": [
       "<div>\n",
       "<style scoped>\n",
       "    .dataframe tbody tr th:only-of-type {\n",
       "        vertical-align: middle;\n",
       "    }\n",
       "\n",
       "    .dataframe tbody tr th {\n",
       "        vertical-align: top;\n",
       "    }\n",
       "\n",
       "    .dataframe thead th {\n",
       "        text-align: right;\n",
       "    }\n",
       "</style>\n",
       "<table border=\"1\" class=\"dataframe\">\n",
       "  <thead>\n",
       "    <tr style=\"text-align: right;\">\n",
       "      <th></th>\n",
       "      <th>Open</th>\n",
       "      <th>High</th>\n",
       "      <th>Low</th>\n",
       "      <th>Close</th>\n",
       "      <th>Adj Close</th>\n",
       "      <th>Volume</th>\n",
       "      <th>Adj_close_sma</th>\n",
       "      <th>Adj_close_sma_200</th>\n",
       "      <th>Adj_close_ema_20</th>\n",
       "      <th>Adj_close_ewma</th>\n",
       "    </tr>\n",
       "    <tr>\n",
       "      <th>Date</th>\n",
       "      <th></th>\n",
       "      <th></th>\n",
       "      <th></th>\n",
       "      <th></th>\n",
       "      <th></th>\n",
       "      <th></th>\n",
       "      <th></th>\n",
       "      <th></th>\n",
       "      <th></th>\n",
       "      <th></th>\n",
       "    </tr>\n",
       "  </thead>\n",
       "  <tbody>\n",
       "    <tr>\n",
       "      <th>2010-06-29</th>\n",
       "      <td>1.266667</td>\n",
       "      <td>1.666667</td>\n",
       "      <td>1.169333</td>\n",
       "      <td>1.592667</td>\n",
       "      <td>1.592667</td>\n",
       "      <td>281494500</td>\n",
       "      <td>NaN</td>\n",
       "      <td>NaN</td>\n",
       "      <td>1.592667</td>\n",
       "      <td>1.592667</td>\n",
       "    </tr>\n",
       "    <tr>\n",
       "      <th>2010-06-30</th>\n",
       "      <td>1.719333</td>\n",
       "      <td>2.028000</td>\n",
       "      <td>1.553333</td>\n",
       "      <td>1.588667</td>\n",
       "      <td>1.588667</td>\n",
       "      <td>257806500</td>\n",
       "      <td>NaN</td>\n",
       "      <td>NaN</td>\n",
       "      <td>1.590567</td>\n",
       "      <td>1.590616</td>\n",
       "    </tr>\n",
       "    <tr>\n",
       "      <th>2010-07-01</th>\n",
       "      <td>1.666667</td>\n",
       "      <td>1.728000</td>\n",
       "      <td>1.351333</td>\n",
       "      <td>1.464000</td>\n",
       "      <td>1.464000</td>\n",
       "      <td>123282000</td>\n",
       "      <td>NaN</td>\n",
       "      <td>NaN</td>\n",
       "      <td>1.544092</td>\n",
       "      <td>1.546228</td>\n",
       "    </tr>\n",
       "    <tr>\n",
       "      <th>2010-07-02</th>\n",
       "      <td>1.533333</td>\n",
       "      <td>1.540000</td>\n",
       "      <td>1.247333</td>\n",
       "      <td>1.280000</td>\n",
       "      <td>1.280000</td>\n",
       "      <td>77097000</td>\n",
       "      <td>NaN</td>\n",
       "      <td>NaN</td>\n",
       "      <td>1.467853</td>\n",
       "      <td>1.474466</td>\n",
       "    </tr>\n",
       "    <tr>\n",
       "      <th>2010-07-06</th>\n",
       "      <td>1.333333</td>\n",
       "      <td>1.333333</td>\n",
       "      <td>1.055333</td>\n",
       "      <td>1.074000</td>\n",
       "      <td>1.074000</td>\n",
       "      <td>103003500</td>\n",
       "      <td>NaN</td>\n",
       "      <td>NaN</td>\n",
       "      <td>1.372583</td>\n",
       "      <td>1.385953</td>\n",
       "    </tr>\n",
       "  </tbody>\n",
       "</table>\n",
       "</div>"
      ],
      "text/plain": [
       "                Open      High       Low     Close  Adj Close     Volume  \\\n",
       "Date                                                                       \n",
       "2010-06-29  1.266667  1.666667  1.169333  1.592667   1.592667  281494500   \n",
       "2010-06-30  1.719333  2.028000  1.553333  1.588667   1.588667  257806500   \n",
       "2010-07-01  1.666667  1.728000  1.351333  1.464000   1.464000  123282000   \n",
       "2010-07-02  1.533333  1.540000  1.247333  1.280000   1.280000   77097000   \n",
       "2010-07-06  1.333333  1.333333  1.055333  1.074000   1.074000  103003500   \n",
       "\n",
       "            Adj_close_sma  Adj_close_sma_200  Adj_close_ema_20  Adj_close_ewma  \n",
       "Date                                                                            \n",
       "2010-06-29            NaN                NaN          1.592667        1.592667  \n",
       "2010-06-30            NaN                NaN          1.590567        1.590616  \n",
       "2010-07-01            NaN                NaN          1.544092        1.546228  \n",
       "2010-07-02            NaN                NaN          1.467853        1.474466  \n",
       "2010-07-06            NaN                NaN          1.372583        1.385953  "
      ]
     },
     "execution_count": 34,
     "metadata": {},
     "output_type": "execute_result"
    }
   ],
   "source": [
    "Tesla['Adj_close_ewma']= Tesla['Adj Close'].ewm(alpha=0.05).mean()\n",
    "Tesla.head()"
   ]
  },
  {
   "cell_type": "code",
   "execution_count": 35,
   "metadata": {},
   "outputs": [
    {
     "data": {
      "image/png": "[encoded data removed]",
      "text/plain": [
       "<Figure size 432x288 with 1 Axes>"
      ]
     },
     "metadata": {
      "needs_background": "light"
     },
     "output_type": "display_data"
    }
   ],
   "source": [
    "Tesla[['Adj Close','Adj_close_ema_20','Adj_close_ewma']].plot(title='Adj Close Over Time')\n",
    "plt.xlabel('Date')\n",
    "plt.ylabel('Adj Close')\n",
    "plt.show()"
   ]
  },
  {
   "cell_type": "markdown",
   "metadata": {},
   "source": [
    "The EMA curve seems to be giving a more accurate graph.\n",
    "\n",
    "**Seasonal Decomposition**\n",
    "\n",
    ">This is done to identify patterns and seasonality."
   ]
  },
  {
   "cell_type": "code",
   "execution_count": 36,
   "metadata": {},
   "outputs": [
    {
     "data": {
      "image/png": "[encoded data removed]",
      "text/plain": [
       "<Figure size 432x288 with 4 Axes>"
      ]
     },
     "metadata": {
      "needs_background": "light"
     },
     "output_type": "display_data"
    }
   ],
   "source": [
    "from statsmodels.tsa.seasonal import seasonal_decompose\n",
    "seasonal_decompose(Tesla['Adj Close'],period=12).plot();"
   ]
  },
  {
   "cell_type": "markdown",
   "metadata": {},
   "source": [
    "There seems to be an upward trend on the recent years. There seems to be a sign of no seasonality."
   ]
  },
  {
   "cell_type": "markdown",
   "metadata": {},
   "source": [
    "## Creating a baseline model"
   ]
  },
  {
   "cell_type": "code",
   "execution_count": 38,
   "metadata": {},
   "outputs": [
    {
     "data": {
      "text/html": [
       "<div>\n",
       "<style scoped>\n",
       "    .dataframe tbody tr th:only-of-type {\n",
       "        vertical-align: middle;\n",
       "    }\n",
       "\n",
       "    .dataframe tbody tr th {\n",
       "        vertical-align: top;\n",
       "    }\n",
       "\n",
       "    .dataframe thead th {\n",
       "        text-align: right;\n",
       "    }\n",
       "</style>\n",
       "<table border=\"1\" class=\"dataframe\">\n",
       "  <thead>\n",
       "    <tr style=\"text-align: right;\">\n",
       "      <th></th>\n",
       "      <th>Open</th>\n",
       "      <th>High</th>\n",
       "      <th>Low</th>\n",
       "      <th>Close</th>\n",
       "      <th>Adj Close</th>\n",
       "      <th>Volume</th>\n",
       "      <th>Adj_close_sma</th>\n",
       "      <th>Adj_close_sma_200</th>\n",
       "      <th>Adj_close_ema_20</th>\n",
       "      <th>Adj_close_ewma</th>\n",
       "    </tr>\n",
       "    <tr>\n",
       "      <th>Date</th>\n",
       "      <th></th>\n",
       "      <th></th>\n",
       "      <th></th>\n",
       "      <th></th>\n",
       "      <th></th>\n",
       "      <th></th>\n",
       "      <th></th>\n",
       "      <th></th>\n",
       "      <th></th>\n",
       "      <th></th>\n",
       "    </tr>\n",
       "  </thead>\n",
       "  <tbody>\n",
       "    <tr>\n",
       "      <th>2010-06-29</th>\n",
       "      <td>1.266667</td>\n",
       "      <td>1.666667</td>\n",
       "      <td>1.169333</td>\n",
       "      <td>1.592667</td>\n",
       "      <td>1.592667</td>\n",
       "      <td>281494500</td>\n",
       "      <td>NaN</td>\n",
       "      <td>NaN</td>\n",
       "      <td>1.592667</td>\n",
       "      <td>1.592667</td>\n",
       "    </tr>\n",
       "    <tr>\n",
       "      <th>2010-06-30</th>\n",
       "      <td>1.719333</td>\n",
       "      <td>2.028000</td>\n",
       "      <td>1.553333</td>\n",
       "      <td>1.588667</td>\n",
       "      <td>1.588667</td>\n",
       "      <td>257806500</td>\n",
       "      <td>NaN</td>\n",
       "      <td>NaN</td>\n",
       "      <td>1.590567</td>\n",
       "      <td>1.590616</td>\n",
       "    </tr>\n",
       "    <tr>\n",
       "      <th>2010-07-01</th>\n",
       "      <td>1.666667</td>\n",
       "      <td>1.728000</td>\n",
       "      <td>1.351333</td>\n",
       "      <td>1.464000</td>\n",
       "      <td>1.464000</td>\n",
       "      <td>123282000</td>\n",
       "      <td>NaN</td>\n",
       "      <td>NaN</td>\n",
       "      <td>1.544092</td>\n",
       "      <td>1.546228</td>\n",
       "    </tr>\n",
       "    <tr>\n",
       "      <th>2010-07-02</th>\n",
       "      <td>1.533333</td>\n",
       "      <td>1.540000</td>\n",
       "      <td>1.247333</td>\n",
       "      <td>1.280000</td>\n",
       "      <td>1.280000</td>\n",
       "      <td>77097000</td>\n",
       "      <td>NaN</td>\n",
       "      <td>NaN</td>\n",
       "      <td>1.467853</td>\n",
       "      <td>1.474466</td>\n",
       "    </tr>\n",
       "    <tr>\n",
       "      <th>2010-07-06</th>\n",
       "      <td>1.333333</td>\n",
       "      <td>1.333333</td>\n",
       "      <td>1.055333</td>\n",
       "      <td>1.074000</td>\n",
       "      <td>1.074000</td>\n",
       "      <td>103003500</td>\n",
       "      <td>NaN</td>\n",
       "      <td>NaN</td>\n",
       "      <td>1.372583</td>\n",
       "      <td>1.385953</td>\n",
       "    </tr>\n",
       "  </tbody>\n",
       "</table>\n",
       "</div>"
      ],
      "text/plain": [
       "                Open      High       Low     Close  Adj Close     Volume  \\\n",
       "Date                                                                       \n",
       "2010-06-29  1.266667  1.666667  1.169333  1.592667   1.592667  281494500   \n",
       "2010-06-30  1.719333  2.028000  1.553333  1.588667   1.588667  257806500   \n",
       "2010-07-01  1.666667  1.728000  1.351333  1.464000   1.464000  123282000   \n",
       "2010-07-02  1.533333  1.540000  1.247333  1.280000   1.280000   77097000   \n",
       "2010-07-06  1.333333  1.333333  1.055333  1.074000   1.074000  103003500   \n",
       "\n",
       "            Adj_close_sma  Adj_close_sma_200  Adj_close_ema_20  Adj_close_ewma  \n",
       "Date                                                                            \n",
       "2010-06-29            NaN                NaN          1.592667        1.592667  \n",
       "2010-06-30            NaN                NaN          1.590567        1.590616  \n",
       "2010-07-01            NaN                NaN          1.544092        1.546228  \n",
       "2010-07-02            NaN                NaN          1.467853        1.474466  \n",
       "2010-07-06            NaN                NaN          1.372583        1.385953  "
      ]
     },
     "execution_count": 38,
     "metadata": {},
     "output_type": "execute_result"
    }
   ],
   "source": [
    "Tesla.head()"
   ]
  },
  {
   "cell_type": "code",
   "execution_count": 39,
   "metadata": {},
   "outputs": [],
   "source": [
    "import statsmodels.api as sm\n",
    "from statsmodels.tsa.seasonal import seasonal_decompose\n",
    "from statsmodels.tsa.stattools import adfuller, acf, pacf\n",
    "from statsmodels.tsa.arima.model import ARIMA"
   ]
  },
  {
   "cell_type": "code",
   "execution_count": 43,
   "metadata": {},
   "outputs": [
    {
     "name": "stdout",
     "output_type": "stream",
     "text": [
      "Training Data:\n",
      "                Open      High       Low     Close  Adj Close     Volume  \\\n",
      "Date                                                                       \n",
      "2010-06-29  1.266667  1.666667  1.169333  1.592667   1.592667  281494500   \n",
      "2010-06-30  1.719333  2.028000  1.553333  1.588667   1.588667  257806500   \n",
      "2010-07-01  1.666667  1.728000  1.351333  1.464000   1.464000  123282000   \n",
      "2010-07-02  1.533333  1.540000  1.247333  1.280000   1.280000   77097000   \n",
      "2010-07-06  1.333333  1.333333  1.055333  1.074000   1.074000  103003500   \n",
      "\n",
      "            Adj_close_sma  Adj_close_sma_200  Adj_close_ema_20  Adj_close_ewma  \n",
      "Date                                                                            \n",
      "2010-06-29            NaN                NaN          1.592667        1.592667  \n",
      "2010-06-30            NaN                NaN          1.590567        1.590616  \n",
      "2010-07-01            NaN                NaN          1.544092        1.546228  \n",
      "2010-07-02            NaN                NaN          1.467853        1.474466  \n",
      "2010-07-06            NaN                NaN          1.372583        1.385953  \n",
      "                  Open        High         Low       Close   Adj Close  \\\n",
      "Date                                                                     \n",
      "2021-08-16  235.023331  236.500000  225.466660  228.723328  228.723328   \n",
      "2021-08-17  224.220001  224.860001  216.279999  221.903336  221.903336   \n",
      "2021-08-18  223.250000  231.923340  223.116669  229.663330  229.663330   \n",
      "2021-08-19  226.070007  228.850006  222.529999  224.490005  224.490005   \n",
      "2021-08-20  227.616669  230.710007  224.566666  226.753326  226.753326   \n",
      "\n",
      "              Volume  Adj_close_sma  Adj_close_sma_200  Adj_close_ema_20  \\\n",
      "Date                                                                       \n",
      "2021-08-16  68032200     236.385001         221.302983        230.496884   \n",
      "2021-08-17  71163900     234.917334         221.727783        229.678451   \n",
      "2021-08-18  61048200     234.186334         222.229367        229.677010   \n",
      "2021-08-19  42940500     232.814334         222.684300        229.183010   \n",
      "2021-08-20  44525700     232.186333         223.111567        228.951611   \n",
      "\n",
      "            Adj_close_ewma  \n",
      "Date                        \n",
      "2021-08-16      225.529149  \n",
      "2021-08-17      225.347858  \n",
      "2021-08-18      225.563632  \n",
      "2021-08-19      225.509950  \n",
      "2021-08-20      225.572119  \n",
      "\n",
      "Testing Data:\n",
      "                  Open        High         Low       Close   Adj Close  \\\n",
      "Date                                                                     \n",
      "2021-08-23  228.479996  237.376663  226.916672  235.433334  235.433334   \n",
      "2021-08-24  236.893326  238.406662  234.213333  236.163330  236.163330   \n",
      "2021-08-25  235.676666  238.990005  234.666672  237.066666  237.066666   \n",
      "2021-08-26  236.103333  238.466660  232.539993  233.720001  233.720001   \n",
      "2021-08-27  235.000000  238.333328  234.033340  237.306671  237.306671   \n",
      "\n",
      "              Volume  Adj_close_sma  Adj_close_sma_200  Adj_close_ema_20  \\\n",
      "Date                                                                       \n",
      "2021-08-23  60794700     231.937666         223.587100        229.568918   \n",
      "2021-08-24  39249300     231.887666         224.037767        230.196958   \n",
      "2021-08-25  37936800     232.000333         224.506517        230.851216   \n",
      "2021-08-26  39642900     231.297333         224.973017        231.124433   \n",
      "2021-08-27  41501400     231.122333         225.475617        231.713218   \n",
      "\n",
      "            Adj_close_ewma  \n",
      "Date                        \n",
      "2021-08-23      226.065180  \n",
      "2021-08-24      226.570087  \n",
      "2021-08-25      227.094916  \n",
      "2021-08-26      227.426171  \n",
      "2021-08-27      227.920196  \n",
      "                  Open        High         Low       Close   Adj Close  \\\n",
      "Date                                                                     \n",
      "2024-05-31  178.500000  180.320007  173.820007  178.080002  178.080002   \n",
      "2024-06-03  178.130005  182.639999  174.490005  176.289993  176.289993   \n",
      "2024-06-04  174.779999  177.759995  174.000000  174.770004  174.770004   \n",
      "2024-06-05  175.350006  176.149994  172.130005  175.000000  175.000000   \n",
      "2024-06-06  174.419998  176.919998  172.729996  175.440002  175.440002   \n",
      "\n",
      "              Volume  Adj_close_sma  Adj_close_sma_200  Adj_close_ema_20  \\\n",
      "Date                                                                       \n",
      "2024-05-31  67314600     178.191002          212.09570        176.285958   \n",
      "2024-06-03  68568900     178.074000          211.84915        176.286342   \n",
      "2024-06-04  60056300     178.056001          211.62690        176.141929   \n",
      "2024-06-05  57614800     176.896001          211.42445        176.033174   \n",
      "2024-06-06  29887849     176.429001          211.14525        175.976681   \n",
      "\n",
      "            Adj_close_ewma  \n",
      "Date                        \n",
      "2024-05-31      175.622367  \n",
      "2024-06-03      175.655749  \n",
      "2024-06-04      175.611461  \n",
      "2024-06-05      175.580888  \n",
      "2024-06-06      175.573844  \n"
     ]
    }
   ],
   "source": [
    "# Define the split point\n",
    "split_ratio = 0.8\n",
    "split_point = int(len(Tesla) * split_ratio)\n",
    "\n",
    "# Split the data\n",
    "train, test = Tesla[:split_point], Tesla[split_point:]\n",
    "\n",
    "# Display the split data\n",
    "print(\"Training Data:\")\n",
    "print(train.head())\n",
    "print(train.tail())\n",
    "print(\"\\nTesting Data:\")\n",
    "print(test.head())\n",
    "print(test.tail())\n"
   ]
  },
  {
   "cell_type": "code",
   "execution_count": 55,
   "metadata": {},
   "outputs": [
    {
     "name": "stderr",
     "output_type": "stream",
     "text": [
      "C:\\Users\\Rion\\anaconda3\\envs\\learn-env\\lib\\site-packages\\statsmodels\\tsa\\base\\tsa_model.py:473: ValueWarning: A date index has been provided, but it has no associated frequency information and so will be ignored when e.g. forecasting.\n",
      "  self._init_dates(dates, freq)\n",
      "C:\\Users\\Rion\\anaconda3\\envs\\learn-env\\lib\\site-packages\\statsmodels\\tsa\\base\\tsa_model.py:473: ValueWarning: A date index has been provided, but it has no associated frequency information and so will be ignored when e.g. forecasting.\n",
      "  self._init_dates(dates, freq)\n",
      "C:\\Users\\Rion\\anaconda3\\envs\\learn-env\\lib\\site-packages\\statsmodels\\tsa\\base\\tsa_model.py:473: ValueWarning: A date index has been provided, but it has no associated frequency information and so will be ignored when e.g. forecasting.\n",
      "  self._init_dates(dates, freq)\n"
     ]
    },
    {
     "name": "stdout",
     "output_type": "stream",
     "text": [
      "                               SARIMAX Results                                \n",
      "==============================================================================\n",
      "Dep. Variable:                  Close   No. Observations:                 2807\n",
      "Model:                 ARIMA(3, 2, 1)   Log Likelihood               -6586.903\n",
      "Date:                Fri, 19 Jul 2024   AIC                          13183.806\n",
      "Time:                        12:32:21   BIC                          13213.502\n",
      "Sample:                             0   HQIC                         13194.524\n",
      "                               - 2807                                         \n",
      "Covariance Type:                  opg                                         \n",
      "==============================================================================\n",
      "                 coef    std err          z      P>|z|      [0.025      0.975]\n",
      "------------------------------------------------------------------------------\n",
      "ar.L1         -0.0740      0.006    -13.433      0.000      -0.085      -0.063\n",
      "ar.L2         -0.0184      0.006     -3.265      0.001      -0.029      -0.007\n",
      "ar.L3          0.0708      0.006     11.746      0.000       0.059       0.083\n",
      "ma.L1         -0.9976      0.000  -2181.314      0.000      -0.998      -0.997\n",
      "sigma2         6.4027      0.037    171.460      0.000       6.330       6.476\n",
      "===================================================================================\n",
      "Ljung-Box (L1) (Q):                   0.02   Jarque-Bera (JB):            202604.07\n",
      "Prob(Q):                              0.88   Prob(JB):                         0.00\n",
      "Heteroskedasticity (H):             427.62   Skew:                             0.53\n",
      "Prob(H) (two-sided):                  0.00   Kurtosis:                        44.62\n",
      "===================================================================================\n",
      "\n",
      "Warnings:\n",
      "[1] Covariance matrix calculated using the outer product of gradients (complex-step).\n"
     ]
    }
   ],
   "source": [
    "from statsmodels.tsa.arima.model import ARIMA\n",
    "\n",
    "# Extract the relevant column from the DataFrame if necessary\n",
    "# Assuming 'Close' is the column you want to model\n",
    "train_series = train['Close'] if isinstance(train, pd.DataFrame) else train\n",
    "\n",
    "# Define ARIMA parameters\n",
    "p = 3\n",
    "d = 2\n",
    "q = 1\n",
    "\n",
    "# Define the ARIMA model with the specified parameters\n",
    "arima_model = ARIMA(train_series, order=(p, d, q))\n",
    "\n",
    "# Fit the ARIMA model\n",
    "arima_results = arima_model.fit()\n",
    "\n",
    "# Print the summary of the model\n",
    "print(arima_results.summary())\n"
   ]
  },
  {
   "cell_type": "code",
   "execution_count": 57,
   "metadata": {},
   "outputs": [
    {
     "name": "stdout",
     "output_type": "stream",
     "text": [
      "AIC value: 13183.805951841867\n"
     ]
    }
   ],
   "source": [
    "# Calculate AIC value\n",
    "aic_value = arima_results.aic\n",
    "print(\"AIC value:\", aic_value)\n"
   ]
  },
  {
   "cell_type": "markdown",
   "metadata": {},
   "source": [
    "## Forcasting"
   ]
  },
  {
   "cell_type": "code",
   "execution_count": null,
   "metadata": {},
   "outputs": [],
   "source": [
    "#The forecast method is used to predict future values. "
   ]
  },
  {
   "cell_type": "code",
   "execution_count": 60,
   "metadata": {},
   "outputs": [
    {
     "name": "stdout",
     "output_type": "stream",
     "text": [
      "Forecasted Tesla:\n",
      "2807    227.511345\n",
      "2808    227.328439\n",
      "2809    227.769277\n",
      "2810    228.074712\n",
      "2811    228.312087\n",
      "2812    228.601142\n",
      "2813    228.878041\n",
      "2814    229.150071\n",
      "2815    229.426343\n",
      "2816    229.701530\n",
      "2817    229.976374\n",
      "Name: predicted_mean, dtype: float64\n"
     ]
    },
    {
     "name": "stderr",
     "output_type": "stream",
     "text": [
      "C:\\Users\\Rion\\anaconda3\\envs\\learn-env\\lib\\site-packages\\statsmodels\\tsa\\base\\tsa_model.py:836: ValueWarning: No supported index is available. Prediction results will be given with an integer index beginning at `start`.\n",
      "  return get_prediction_index(\n"
     ]
    }
   ],
   "source": [
    "# Evaluate the model and determine the forecast\n",
    "forecast_steps = 11  # Number of steps you want to forecast\n",
    "Tesla_forecast = arima_results.forecast(steps=forecast_steps)\n",
    "\n",
    "# Print the forecasted values\n",
    "print(\"Forecasted Tesla:\")\n",
    "print(Tesla_forecast)\n"
   ]
  },
  {
   "cell_type": "markdown",
   "metadata": {},
   "source": [
    "### Plotting"
   ]
  },
  {
   "cell_type": "code",
   "execution_count": null,
   "metadata": {},
   "outputs": [],
   "source": [
    "#Plot the original training data and overlay the forecasted values to visualize the predictions."
   ]
  },
  {
   "cell_type": "code",
   "execution_count": 61,
   "metadata": {},
   "outputs": [
    {
     "data": {
      "image/png": "[encoded data removed]",
      "text/plain": [
       "<Figure size 864x432 with 1 Axes>"
      ]
     },
     "metadata": {
      "needs_background": "light"
     },
     "output_type": "display_data"
    }
   ],
   "source": [
    "import matplotlib.pyplot as plt\n",
    "\n",
    "# Combine training data and forecast for plotting\n",
    "plt.figure(figsize=(12, 6))\n",
    "plt.plot(train, label='Training Data')\n",
    "plt.plot(range(len(train), len(train) + forecast_steps), Tesla_forecast, label='Forecast', color='red')\n",
    "plt.title('ARIMA Model Forecast')\n",
    "plt.xlabel('Time')\n",
    "plt.ylabel('Tesla Price')\n",
    "plt.legend()\n",
    "plt.show()\n"
   ]
  },
  {
   "cell_type": "code",
   "execution_count": 62,
   "metadata": {},
   "outputs": [
    {
     "data": {
      "image/png": "[encoded data removed]",
      "text/plain": [
       "<Figure size 1008x504 with 1 Axes>"
      ]
     },
     "metadata": {
      "needs_background": "light"
     },
     "output_type": "display_data"
    }
   ],
   "source": [
    "import matplotlib.pyplot as plt\n",
    "\n",
    "# Define the forecast range\n",
    "forecast_index = range(len(train), len(train) + forecast_steps)\n",
    "\n",
    "# Create the plot\n",
    "plt.figure(figsize=(14, 7))\n",
    "\n",
    "# Plot the training data\n",
    "plt.plot(train.index, train, label='Training Data', color='blue', linestyle='-', linewidth=2)\n",
    "\n",
    "# Plot the forecasted data\n",
    "plt.plot(forecast_index, Tesla_forecast, label='Forecast', color='red', linestyle='--', linewidth=2)\n",
    "\n",
    "# Enhance plot with title and labels\n",
    "plt.title('ARIMA Model Forecast')\n",
    "plt.xlabel('Time')\n",
    "plt.ylabel('Tesla Price')\n",
    "plt.legend()\n",
    "plt.grid(True)\n",
    "plt.show()\n"
   ]
  },
  {
   "cell_type": "code",
   "execution_count": 74,
   "metadata": {},
   "outputs": [
    {
     "name": "stdout",
     "output_type": "stream",
     "text": [
      "Root Mean Squared Error (RMSE): 48377133.662695564\n"
     ]
    }
   ],
   "source": [
    "# Ensure the lengths match for RMSE calculation\n",
    "Tesla_test_aligned = Tesla_test['Volume'][:forecast_steps]  # Adjust test data to match forecast length\n",
    "\n",
    "# Calculate RMSE\n",
    "mse = np.sqrt(mean_squared_error(Tesla_test_aligned, Tesla_forecast))\n",
    "print(\"Root Mean Squared Error (RMSE):\", mse)"
   ]
  },
  {
   "cell_type": "code",
   "execution_count": 75,
   "metadata": {},
   "outputs": [],
   "source": [
    "p = range(0,5)\n",
    "d = range(0,3)\n",
    "q = range(0,5)"
   ]
  },
  {
   "cell_type": "code",
   "execution_count": 77,
   "metadata": {},
   "outputs": [
    {
     "name": "stdout",
     "output_type": "stream",
     "text": [
      "Best ARIMA parameters: None\n"
     ]
    }
   ],
   "source": [
    "# Function to find optimal ARIMA parameters\n",
    "def find_best_arima_params(data, p_values, d_values, q_values):\n",
    "    best_aic, best_order = float(\"inf\"), None\n",
    "    for p in p_values:\n",
    "        for d in d_values:\n",
    "            for q in q_values:\n",
    "                try:\n",
    "                    order = (p, d, q)\n",
    "                    aic = evaluate_arima_model(data, order)\n",
    "                    if aic < best_aic:\n",
    "                        best_aic, best_order = aic, order\n",
    "                    print(f'ARIMA{order} AIC={aic}')\n",
    "                except Exception as e:\n",
    "                    continue\n",
    "    return best_order\n",
    "\n",
    "# Assuming 'Tesla' is your dataset with a DateTime index and a column named 'Price'\n",
    "# Extract the series\n",
    "series = Tesla['Volume']\n",
    "\n",
    "# Define the p, d, q values to try\n",
    "p_values = range(0, 5)\n",
    "d_values = range(0, 3)\n",
    "q_values = range(0, 5)\n",
    "\n",
    "# Find the best ARIMA parameters\n",
    "best_order = find_best_arima_params(series, p_values, d_values, q_values)\n",
    "print(f'Best ARIMA parameters: {best_order}')"
   ]
  },
  {
   "cell_type": "code",
   "execution_count": 80,
   "metadata": {},
   "outputs": [
    {
     "name": "stdout",
     "output_type": "stream",
     "text": [
      "Date\n",
      "2010-06-29    281494500\n",
      "2010-06-30    257806500\n",
      "2010-07-01    123282000\n",
      "2010-07-02     77097000\n",
      "2010-07-06    103003500\n",
      "Name: Volume, dtype: int64\n"
     ]
    }
   ],
   "source": [
    "# Assuming 'Tesla' is your dataset with a DateTime index and a column named 'Volume'\n",
    "# Extract the series\n",
    "series = Tesla['Volume']\n",
    "print(series.head())\n"
   ]
  },
  {
   "cell_type": "code",
   "execution_count": 81,
   "metadata": {},
   "outputs": [
    {
     "name": "stdout",
     "output_type": "stream",
     "text": [
      "ARIMA(0, 0, 0) AIC=130002.87110073016\n",
      "ARIMA(0, 0, 1) AIC=109115.17145830097\n",
      "ARIMA(0, 0, 2) AIC=108764.05357261424\n",
      "ARIMA(0, 0, 3) AIC=108532.8833950957\n",
      "ARIMA(0, 0, 4) AIC=108456.76228202443\n",
      "ARIMA(0, 1, 0) AIC=107957.64737940027\n",
      "ARIMA(0, 1, 1) AIC=107654.29163484757\n",
      "ARIMA(0, 1, 2) AIC=107430.1324900488\n",
      "ARIMA(0, 1, 3) AIC=107394.02416612353\n",
      "ARIMA(0, 1, 4) AIC=107345.02137023085\n",
      "ARIMA(0, 2, 0) AIC=125795.00963031841\n",
      "ARIMA(0, 2, 1) AIC=108036.76997149695\n",
      "ARIMA(0, 2, 2) AIC=107746.59814919184\n",
      "ARIMA(0, 2, 3) AIC=107514.92908703678\n",
      "ARIMA(0, 2, 4) AIC=107438.50386188093\n",
      "ARIMA(1, 0, 0) AIC=107701.30489492722\n",
      "ARIMA(1, 0, 1) AIC=107587.55400845925\n",
      "ARIMA(1, 0, 2) AIC=107461.65565346646\n",
      "ARIMA(1, 0, 3) AIC=107435.06830160765\n",
      "ARIMA(1, 0, 4) AIC=107389.87603763727\n",
      "ARIMA(1, 1, 0) AIC=107790.3478243273\n",
      "ARIMA(1, 1, 1) AIC=107360.96754347722\n",
      "ARIMA(1, 1, 2) AIC=107353.78958318233\n",
      "ARIMA(1, 1, 3) AIC=107347.09329340202\n",
      "ARIMA(1, 1, 4) AIC=107336.27562314515\n",
      "ARIMA(1, 2, 0) AIC=109536.27531640639\n",
      "ARIMA(1, 2, 1) AIC=107917.55928973392\n",
      "ARIMA(1, 2, 2) AIC=107964.15892998157\n",
      "ARIMA(1, 2, 3) AIC=107428.65509899083\n",
      "ARIMA(1, 2, 4) AIC=107462.94041427814\n",
      "ARIMA(2, 0, 0) AIC=107633.78062868131\n",
      "ARIMA(2, 0, 1) AIC=107397.84888160994\n",
      "ARIMA(2, 0, 2) AIC=107398.43138784228\n",
      "ARIMA(2, 0, 3) AIC=107394.47118000325\n",
      "ARIMA(2, 0, 4) AIC=107383.04568626618\n",
      "ARIMA(2, 1, 0) AIC=107641.60876365787\n",
      "ARIMA(2, 1, 1) AIC=107360.56919290894\n",
      "ARIMA(2, 1, 2) AIC=107348.72109557621\n",
      "ARIMA(2, 1, 3) AIC=107340.75623343629\n",
      "ARIMA(2, 1, 4) AIC=107337.81641039957\n",
      "ARIMA(2, 2, 0) AIC=108907.21834029933\n",
      "ARIMA(2, 2, 1) AIC=107796.99881190763\n",
      "ARIMA(2, 2, 2) AIC=107474.03890027587\n",
      "ARIMA(2, 2, 3) AIC=107411.83449040516\n",
      "ARIMA(2, 2, 4) AIC=107393.97350930894\n",
      "ARIMA(3, 0, 0) AIC=107555.4480692977\n",
      "ARIMA(3, 0, 1) AIC=107399.80989222297\n",
      "ARIMA(3, 0, 2) AIC=107399.6288179344\n",
      "ARIMA(3, 0, 3) AIC=107399.92147139055\n",
      "ARIMA(3, 0, 4) AIC=107384.17802223068\n",
      "ARIMA(3, 1, 0) AIC=107618.14620998947\n",
      "ARIMA(3, 1, 1) AIC=107355.56121494196\n",
      "ARIMA(3, 1, 2) AIC=107341.37372905889\n",
      "ARIMA(3, 1, 3) AIC=107339.82954989928\n",
      "ARIMA(3, 1, 4) AIC=107341.44756280797\n",
      "ARIMA(3, 2, 0) AIC=108670.6436601782\n",
      "ARIMA(3, 2, 1) AIC=107781.41619790575\n",
      "ARIMA(3, 2, 2) AIC=107693.15989453686\n",
      "ARIMA(3, 2, 3) AIC=107408.55908413585\n",
      "ARIMA(3, 2, 4) AIC=107389.08646063622\n",
      "ARIMA(4, 0, 0) AIC=107550.90999918361\n",
      "ARIMA(4, 0, 1) AIC=107395.25717458202\n",
      "ARIMA(4, 0, 2) AIC=107401.10567300506\n",
      "ARIMA(4, 0, 3) AIC=107400.96664563926\n",
      "ARIMA(4, 0, 4) AIC=107386.02371805598\n",
      "ARIMA(4, 1, 0) AIC=107562.86074941247\n",
      "ARIMA(4, 1, 1) AIC=107344.92653726213\n",
      "ARIMA(4, 1, 2) AIC=107341.37925239847\n",
      "ARIMA(4, 1, 3) AIC=107341.03180821714\n",
      "ARIMA(4, 1, 4) AIC=107335.41542698625\n",
      "ARIMA(4, 2, 0) AIC=108476.91825458006\n",
      "ARIMA(4, 2, 1) AIC=107685.00244881616\n",
      "ARIMA(4, 2, 2) AIC=107676.95663971436\n",
      "ARIMA(4, 2, 3) AIC=107651.2297021216\n",
      "ARIMA(4, 2, 4) AIC=107382.70388242844\n",
      "Best ARIMA parameters: (4, 1, 4)\n",
      "                               SARIMAX Results                                \n",
      "==============================================================================\n",
      "Dep. Variable:                 Volume   No. Observations:                 3509\n",
      "Model:                 ARIMA(4, 1, 4)   Log Likelihood              -66787.951\n",
      "Date:                Fri, 19 Jul 2024   AIC                         133593.901\n",
      "Time:                        13:06:58   BIC                         133649.366\n",
      "Sample:                             0   HQIC                        133613.694\n",
      "                               - 3509                                         \n",
      "Covariance Type:                  opg                                         \n",
      "==============================================================================\n",
      "                 coef    std err          z      P>|z|      [0.025      0.975]\n",
      "------------------------------------------------------------------------------\n",
      "ar.L1          0.5520      0.163      3.384      0.001       0.232       0.872\n",
      "ar.L2         -0.3080      0.143     -2.148      0.032      -0.589      -0.027\n",
      "ar.L3         -0.2474      0.158     -1.564      0.118      -0.557       0.063\n",
      "ar.L4          0.1810      0.080      2.259      0.024       0.024       0.338\n",
      "ma.L1         -0.9752      0.163     -5.973      0.000      -1.295      -0.655\n",
      "ma.L2          0.3049      0.192      1.591      0.112      -0.071       0.681\n",
      "ma.L3          0.2105      0.183      1.151      0.250      -0.148       0.569\n",
      "ma.L4         -0.4327      0.129     -3.348      0.001      -0.686      -0.179\n",
      "sigma2       2.06e+15        nan        nan        nan         nan         nan\n",
      "===================================================================================\n",
      "Ljung-Box (L1) (Q):                   0.06   Jarque-Bera (JB):             69088.97\n",
      "Prob(Q):                              0.80   Prob(JB):                         0.00\n",
      "Heteroskedasticity (H):               1.46   Skew:                             2.89\n",
      "Prob(H) (two-sided):                  0.00   Kurtosis:                        23.96\n",
      "===================================================================================\n",
      "\n",
      "Warnings:\n",
      "[1] Covariance matrix calculated using the outer product of gradients (complex-step).\n",
      "[2] Covariance matrix is singular or near-singular, with condition number 1.47e+45. Standard errors may be unstable.\n"
     ]
    }
   ],
   "source": [
    "import pandas as pd\n",
    "import numpy as np\n",
    "from statsmodels.tsa.arima.model import ARIMA\n",
    "import warnings\n",
    "warnings.filterwarnings(\"ignore\")\n",
    "\n",
    "# Function to evaluate ARIMA model\n",
    "def evaluate_arima_model(X, arima_order):\n",
    "    try:\n",
    "        train_size = int(len(X) * 0.8)\n",
    "        train, test = X[0:train_size], X[train_size:]\n",
    "        model = ARIMA(train, order=arima_order)\n",
    "        model_fit = model.fit()\n",
    "        aic = model_fit.aic\n",
    "        return aic\n",
    "    except Exception as e:\n",
    "        print(f'Error with order {arima_order}: {e}')\n",
    "        return float(\"inf\")\n",
    "\n",
    "# Function to find optimal ARIMA parameters\n",
    "def find_best_arima_params(data, p_values, d_values, q_values):\n",
    "    best_aic, best_order = float(\"inf\"), None\n",
    "    for p in p_values:\n",
    "        for d in d_values:\n",
    "            for q in q_values:\n",
    "                order = (p, d, q)\n",
    "                aic = evaluate_arima_model(data, order)\n",
    "                if aic < best_aic:\n",
    "                    best_aic, best_order = aic, order\n",
    "                print(f'ARIMA{order} AIC={aic}')\n",
    "    return best_order\n",
    "\n",
    "# Assuming 'Tesla' is your dataset with a DateTime index and a column named 'Volume'\n",
    "# Extract the series\n",
    "series = Tesla['Volume']\n",
    "\n",
    "# Define the p, d, q values to try\n",
    "p_values = range(0, 5)\n",
    "d_values = range(0, 3)\n",
    "q_values = range(0, 5)\n",
    "\n",
    "# Find the best ARIMA parameters\n",
    "best_order = find_best_arima_params(series, p_values, d_values, q_values)\n",
    "\n",
    "if best_order:\n",
    "    print(f'Best ARIMA parameters: {best_order}')\n",
    "\n",
    "    # Fit the ARIMA model with the best parameters\n",
    "    best_p, best_d, best_q = best_order\n",
    "    arima_model = ARIMA(series, order=(best_p, best_d, best_q))\n",
    "    arima_results = arima_model.fit()\n",
    "\n",
    "    # Print the model summary\n",
    "    print(arima_results.summary())\n",
    "else:\n",
    "    print('No suitable ARIMA model found.')\n"
   ]
  },
  {
   "cell_type": "code",
   "execution_count": 82,
   "metadata": {},
   "outputs": [],
   "source": [
    "from statsmodels.tsa.statespace.sarimax import SARIMAX\n",
    "import matplotlib.pyplot as plt\n",
    "from sklearn.metrics import mean_squared_error"
   ]
  },
  {
   "cell_type": "code",
   "execution_count": null,
   "metadata": {},
   "outputs": [],
   "source": [
    "# Define SARIMA Model Parameters"
   ]
  },
  {
   "cell_type": "code",
   "execution_count": 84,
   "metadata": {},
   "outputs": [],
   "source": [
    "# Define the SARIMA model parameters\n",
    "# Order (p, d, q) and seasonal order (P, D, Q, s)\n",
    "p, d, q = 1, 1, 1  # Example values, you might need to find the best values\n",
    "P, D, Q, s = 1, 1, 1, 12  # Example seasonal order, assuming monthly seasonality\n"
   ]
  },
  {
   "cell_type": "code",
   "execution_count": null,
   "metadata": {},
   "outputs": [],
   "source": [
    "# Fit the SARIMA Model"
   ]
  },
  {
   "cell_type": "code",
   "execution_count": 90,
   "metadata": {},
   "outputs": [],
   "source": [
    "from statsmodels.tsa.statespace.sarimax import SARIMAX\n",
    "\n",
    "# Fit the SARIMA model\n",
    "sarima_model = SARIMAX(train['Volume'], order=(p, d, q), seasonal_order=(P, D, Q, s))\n",
    "sarima_results = sarima_model.fit()"
   ]
  },
  {
   "cell_type": "code",
   "execution_count": null,
   "metadata": {},
   "outputs": [],
   "source": [
    "#Make Predictions"
   ]
  },
  {
   "cell_type": "code",
   "execution_count": 91,
   "metadata": {},
   "outputs": [],
   "source": [
    "# Make predictions\n",
    "forecast_steps = len(test)\n",
    "sarima_forecast = sarima_results.get_forecast(steps=forecast_steps)\n",
    "forecasted_values = sarima_forecast.predicted_mean"
   ]
  },
  {
   "cell_type": "code",
   "execution_count": null,
   "metadata": {},
   "outputs": [],
   "source": [
    "#Print the Forecasted Values"
   ]
  },
  {
   "cell_type": "code",
   "execution_count": 92,
   "metadata": {},
   "outputs": [
    {
     "name": "stdout",
     "output_type": "stream",
     "text": [
      "Forecasted values:\n",
      "2807    4.344660e+07\n",
      "2808    4.482439e+07\n",
      "2809    4.534437e+07\n",
      "2810    4.990467e+07\n",
      "2811    5.408965e+07\n",
      "            ...     \n",
      "3504   -2.045510e+07\n",
      "3505   -2.284218e+07\n",
      "3506   -1.969037e+07\n",
      "3507   -1.606589e+07\n",
      "3508   -1.186583e+07\n",
      "Name: predicted_mean, Length: 702, dtype: float64\n"
     ]
    }
   ],
   "source": [
    "# Print the forecasted values\n",
    "print(\"Forecasted values:\")\n",
    "print(forecasted_values)"
   ]
  },
  {
   "cell_type": "code",
   "execution_count": null,
   "metadata": {},
   "outputs": [],
   "source": [
    "#Plot the Results"
   ]
  },
  {
   "cell_type": "code",
   "execution_count": 93,
   "metadata": {},
   "outputs": [
    {
     "data": {
      "image/png": "[encoded data removed]",
      "text/plain": [
       "<Figure size 864x432 with 1 Axes>"
      ]
     },
     "metadata": {
      "needs_background": "light"
     },
     "output_type": "display_data"
    }
   ],
   "source": [
    "import matplotlib.pyplot as plt\n",
    "\n",
    "# Combine training data and forecast for plotting\n",
    "plt.figure(figsize=(12, 6))\n",
    "plt.plot(train, label='Training Data')\n",
    "plt.plot(test.index, test, label='Test Data')\n",
    "plt.plot(test.index, forecasted_values, label='Forecast', color='red')\n",
    "plt.title('SARIMA Model Forecast')\n",
    "plt.xlabel('Time')\n",
    "plt.ylabel('Tesla Volume')\n",
    "plt.legend()\n",
    "plt.show()\n"
   ]
  },
  {
   "cell_type": "code",
   "execution_count": null,
   "metadata": {},
   "outputs": [],
   "source": [
    "# Calculate RMSE"
   ]
  },
  {
   "cell_type": "code",
   "execution_count": 95,
   "metadata": {},
   "outputs": [
    {
     "name": "stdout",
     "output_type": "stream",
     "text": [
      "Root Mean Squared Error (RMSE): 99426752.74948813\n"
     ]
    }
   ],
   "source": [
    "from sklearn.metrics import mean_squared_error\n",
    "import numpy as np\n",
    "\n",
    "# Ensure 'test' and 'forecasted_values' are of compatible shapes\n",
    "test_aligned = test['Volume'].iloc[:len(forecasted_values)]\n",
    "\n",
    "# Calculate RMSE\n",
    "rmse = np.sqrt(mean_squared_error(test_aligned, forecasted_values))\n",
    "print(\"Root Mean Squared Error (RMSE):\", rmse)\n"
   ]
  },
  {
   "cell_type": "code",
   "execution_count": null,
   "metadata": {},
   "outputs": [],
   "source": []
  }
 ],
 "metadata": {
  "kernelspec": {
   "display_name": "Python 3",
   "language": "python",
   "name": "python3"
  },
  "language_info": {
   "codemirror_mode": {
    "name": "ipython",
    "version": 3
   },
   "file_extension": ".py",
   "mimetype": "text/x-python",
   "name": "python",
   "nbconvert_exporter": "python",
   "pygments_lexer": "ipython3",
   "version": "3.8.5"
  }
 },
 "nbformat": 4,
 "nbformat_minor": 5
}
